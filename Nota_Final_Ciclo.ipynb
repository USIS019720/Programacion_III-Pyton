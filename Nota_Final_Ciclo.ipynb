{
  "nbformat": 4,
  "nbformat_minor": 0,
  "metadata": {
    "colab": {
      "name": "Nota_Final_Ciclo",
      "provenance": [],
      "authorship_tag": "ABX9TyMVwgH1hTFHK70rsU/tFQ7S",
      "include_colab_link": true
    },
    "kernelspec": {
      "name": "python3",
      "display_name": "Python 3"
    },
    "language_info": {
      "name": "python"
    }
  },
  "cells": [
    {
      "cell_type": "markdown",
      "metadata": {
        "id": "view-in-github",
        "colab_type": "text"
      },
      "source": [
        "<a href=\"https://colab.research.google.com/github/USIS019720/Programacion_III-Pyton/blob/Nota_Final_Ciclo/Nota_Final_Ciclo.ipynb\" target=\"_parent\"><img src=\"https://colab.research.google.com/assets/colab-badge.svg\" alt=\"Open In Colab\"/></a>"
      ]
    },
    {
      "cell_type": "code",
      "metadata": {
        "id": "2IeKY1xnyFYS",
        "colab": {
          "base_uri": "https://localhost:8080/"
        },
        "outputId": "3df9c794-d83f-415f-f6f0-93cf3b78ddcc"
      },
      "source": [
        "print(\"Ejercicio2: PROMEDIO DE 3 NOTAS.\")\n",
        "\n",
        "print(\"Ingrese las 3 notas del alumno N1 , N2, N3\")\n",
        "N1 = int( input(\"N1: \"))\n",
        "N2 = int( input(\"N2: \"))\n",
        "N3 = int( input(\"N3: \"))\n",
        "\n",
        "P = int( (N1+N2+N3)/3 )\n",
        "\n",
        "print(\"\\nSalida: \")\n",
        "print(P)"
      ],
      "execution_count": 4,
      "outputs": [
        {
          "output_type": "stream",
          "text": [
            "Ejercicio2: PROMEDIO DE 3 NOTAS.\n",
            "Ingrese las 3 notas del alumno N1 , N2, N3\n",
            "N1: 10\n",
            "N2: 8\n",
            "N3: 5\n",
            "\n",
            "Salida: \n",
            "7\n"
          ],
          "name": "stdout"
        }
      ]
    }
  ]
}