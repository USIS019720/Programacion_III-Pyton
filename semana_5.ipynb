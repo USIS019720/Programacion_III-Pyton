{
  "nbformat": 4,
  "nbformat_minor": 0,
  "metadata": {
    "colab": {
      "name": "semana 5",
      "provenance": [],
      "authorship_tag": "ABX9TyPcgLKj/3owqN3yUIA1QH3q",
      "include_colab_link": true
    },
    "kernelspec": {
      "name": "python3",
      "display_name": "Python 3"
    },
    "language_info": {
      "name": "python"
    }
  },
  "cells": [
    {
      "cell_type": "markdown",
      "metadata": {
        "id": "view-in-github",
        "colab_type": "text"
      },
      "source": [
        "<a href=\"https://colab.research.google.com/github/USIS019720/Programacion_III-Pyton/blob/semana-5/semana_5.ipynb\" target=\"_parent\"><img src=\"https://colab.research.google.com/assets/colab-badge.svg\" alt=\"Open In Colab\"/></a>"
      ]
    },
    {
      "cell_type": "code",
      "metadata": {
        "id": "kUQxJd3oxDR7"
      },
      "source": [
        ""
      ],
      "execution_count": null,
      "outputs": []
    },
    {
      "cell_type": "code",
      "metadata": {
        "id": "SxUBmkahxC8m"
      },
      "source": [
        ""
      ],
      "execution_count": null,
      "outputs": []
    },
    {
      "cell_type": "code",
      "metadata": {
        "colab": {
          "base_uri": "https://localhost:8080/"
        },
        "id": "ep8Rld_mpEv_",
        "outputId": "7bab131e-ef99-4403-8581-a52ff89df0af"
      },
      "source": [
        "print(\"1: 1-18\")\n",
        "print(\"2: 19-28\")\n",
        "print(\"3: 29 en adelante\")\n",
        "print (\"\")\n",
        "hl=int(input(\"coloque aqui opcion\"))\n",
        "print (\"\")\n",
        "if hl==1:\n",
        "    dol1=int(input(\"introdusca cantidad de metros consumidos dentro del rango establecido: \"))\n",
        "    pesc=dol1=6\n",
        "    print (\"\")\n",
        "    print (\"TOTAL=\", pesc)\n",
        "if hl==2:\n",
        "    pesc1=float(input(\"introdusca cantidad de metros consumidos dentro del rando establecido: \"))\n",
        "    dol2=(pesc1-18)*0.45+6\n",
        "    print(\"\")\n",
        "    print(\"TOTAL=\", dol2)\n",
        "if hl==3:\n",
        "    dol3=int(input(\"introdusca la cantidad de metros consumidos dentro del rango establecido: \"))\n",
        "    e=(dol3-28)*0.65+(28-18)*0.45+6\n",
        "    print(\"\")\n",
        "    print(\"TOTAL=\", e)"
      ],
      "execution_count": 14,
      "outputs": [
        {
          "output_type": "stream",
          "text": [
            "Opcion 1: 1-18\n",
            "Opcion 2: 19-28\n",
            "Opcion 3: 29 en adelante\n",
            "\n",
            "coloque aqui opcion3\n",
            "\n",
            "introdusca cantidad de dolares38\n",
            "\n",
            "TOTAL= 17.0\n"
          ],
          "name": "stdout"
        }
      ]
    }
  ]
}