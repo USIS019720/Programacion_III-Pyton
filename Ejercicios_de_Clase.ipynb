{
  "nbformat": 4,
  "nbformat_minor": 0,
  "metadata": {
    "colab": {
      "name": "Ejercicios de Clase",
      "provenance": [],
      "authorship_tag": "ABX9TyM+DWthVcOZCq8QR1fh4+PZ",
      "include_colab_link": true
    },
    "kernelspec": {
      "name": "python3",
      "display_name": "Python 3"
    },
    "language_info": {
      "name": "python"
    }
  },
  "cells": [
    {
      "cell_type": "markdown",
      "metadata": {
        "id": "view-in-github",
        "colab_type": "text"
      },
      "source": [
        "<a href=\"https://colab.research.google.com/github/USIS019720/Programacion_III-Pyton/blob/Ejercicios_clase/Ejercicios_de_Clase.ipynb\" target=\"_parent\"><img src=\"https://colab.research.google.com/assets/colab-badge.svg\" alt=\"Open In Colab\"/></a>"
      ]
    },
    {
      "cell_type": "code",
      "metadata": {
        "colab": {
          "base_uri": "https://localhost:8080/"
        },
        "id": "7DA51l5Rq7q8",
        "outputId": "74a52f3c-ad60-4616-fa44-6aa793d49492"
      },
      "source": [
        "celsius = int(input(\"Ingrese la temperatura en grados celsius: \"))\n",
        "fahrenheit = 9.0/5.0 * celsius +32\n",
        "print(\"{} grados Celsius son {} grados Fahrenheit\".format(fahrenheit,celsius))"
      ],
      "execution_count": null,
      "outputs": [
        {
          "output_type": "stream",
          "text": [
            "Ingrese la temperatura en grados celsius: 100\n",
            "212.0 grados Celsius son 100 grados Fahrenheit\n"
          ],
          "name": "stdout"
        }
      ]
    },
    {
      "cell_type": "code",
      "metadata": {
        "colab": {
          "base_uri": "https://localhost:8080/"
        },
        "id": "7lHeEL9RrTJu",
        "outputId": "d03434ac-1e8c-4595-e92b-88c52509b99e"
      },
      "source": [
        "año_actual = 2021;\n",
        "mes_actual = 8;\n",
        "dia_actual = 12;\n",
        "\n",
        "año_nacimiento = int(input(\"ingrese su año de nacimiento: \"));\n",
        "mes_nacimiento = int(input(\"ingrese su mes de nacimiento: \"));\n",
        "dia_nacimiento = int(input(\"ingrese el dia de nacimiento: \"));\n",
        "\n",
        "if(mes_nacimiento>=mes_actual):\n",
        "  if(dia_nacimiento>dia_actual):\n",
        "    edad = año_actual - año_nacimiento - 1\n",
        "  else:\n",
        "      edad = año_actual - año_nacimiento\n",
        "else:\n",
        "  edad = año_actual - año_nacimiento\n",
        "print(\"La edad es: \", edad)"
      ],
      "execution_count": null,
      "outputs": [
        {
          "output_type": "stream",
          "text": [
            "ingrese su año de nacimiento: 1983\n",
            "ingrese su mes de nacimiento: 6\n",
            "ingrese el dia de nacimiento: 14\n",
            "La edad es:  38\n"
          ],
          "name": "stdout"
        }
      ]
    },
    {
      "cell_type": "code",
      "metadata": {
        "colab": {
          "base_uri": "https://localhost:8080/"
        },
        "id": "7sFU96mqtyRO",
        "outputId": "5d2f533e-5e54-47cf-814a-b12fff1ff3f6"
      },
      "source": [
        "print(\"Computo 1:\")\n",
        "n1c1 = float(input(\"Ingrese la nota del laboratorio 1: \"))\n",
        "n2c1 = float(input(\"Ingrese la nota del laboratorio 2: \"))\n",
        "pc1 = float(input(\"Ingrese la nota del parcial: \"))\n",
        "\n",
        "resultadoc1 = n1c1*0.30 + n2c1*0.30 + pc1*0.40\n",
        "print(\"Su nota es de: \", resultadoc1)\n",
        "\n",
        "print(\"\")\n",
        "\n",
        "print(\"Computo 2\")\n",
        "n1c2 = float(input(\"Ingrese la nota del laboratorio 1: \"))\n",
        "n2c2 = float(input(\"Ingrese la nota del laboratorio 2: \"))\n",
        "pc2 = float(input(\"Ingrese la nota del parcial: \"))\n",
        "\n",
        "resultadoc2 = n1c2*0.30 + n2c2*0.30 + pc2*0.40\n",
        "print(\"Su nota es de: \", resultadoc2)\n",
        "\n",
        "print(\"\")\n",
        "\n",
        "print(\"Computo 3\")\n",
        "n1c3 = float(input(\"Ingrese la nota del laboratorio 1: \"))\n",
        "n2c3 = float(input(\"Ingrese la nota del laboratorio 2: \"))\n",
        "pc3 = float(input(\"Ingrese la nota del parcial: \"))\n",
        "\n",
        "resultadoc3 = n1c3*0.30 + n2c3*0.30 + pc3*0.40\n",
        "print(\"Su nota es de: \", resultadoc3)\n",
        "\n",
        "print(\"\")\n",
        "\n",
        "print(\"Nota Final\")\n",
        "ciclo =(resultadoc1 + resultadoc2 + resultadoc3)/ 3\n",
        "print(ciclo)1"
      ],
      "execution_count": null,
      "outputs": [
        {
          "output_type": "stream",
          "text": [
            "Computo 1:\n",
            "Ingrese la nota del laboratorio 1: 10\n",
            "Ingrese la nota del laboratorio 2: 5\n",
            "Ingrese la nota del parcial: 7\n",
            "Su nota es de:  7.300000000000001\n",
            "\n",
            "Computo 2\n",
            "Ingrese la nota del laboratorio 1: 5\n",
            "Ingrese la nota del laboratorio 2: 7\n",
            "Ingrese la nota del parcial: 9\n",
            "Su nota es de:  7.2\n",
            "\n",
            "Computo 3\n",
            "Ingrese la nota del laboratorio 1: 1\n",
            "Ingrese la nota del laboratorio 2: 8\n",
            "Ingrese la nota del parcial: 9\n",
            "Su nota es de:  6.3\n",
            "\n",
            "Nota Final\n",
            "6.933333333333334\n"
          ],
          "name": "stdout"
        }
      ]
    },
    {
      "cell_type": "code",
      "metadata": {
        "colab": {
          "base_uri": "https://localhost:8080/"
        },
        "id": "En7__Jh2uftP",
        "outputId": "edd23ea1-4053-4cfd-b9bb-e8bca16abf32"
      },
      "source": [
        "conversion = lambda c: (c*9/5) + 32\n",
        "c = float(input(\"Celsius: \"))\n",
        "print(\"Grados C: \", c, \" a F: \", conversion(c))"
      ],
      "execution_count": null,
      "outputs": [
        {
          "output_type": "stream",
          "text": [
            "Celsius: 100\n",
            "Grados C:  100.0  a F:  212.0\n"
          ],
          "name": "stdout"
        }
      ]
    },
    {
      "cell_type": "code",
      "metadata": {
        "colab": {
          "base_uri": "https://localhost:8080/"
        },
        "id": "Cgto5O39vFk7",
        "outputId": "48f23b63-bf32-4092-da04-d5fd09b27ef1"
      },
      "source": [
        "edad = lambda num1,num2: num1-num2\n",
        "num1 = float(input(\"Introduzca el año actual: \"))\n",
        "num2 = float(input(\"Introduzca su año de nacimiento: \"))\n",
        "print(\"Su edad es: \", edad(num1,num2))"
      ],
      "execution_count": null,
      "outputs": [
        {
          "output_type": "stream",
          "text": [
            "Introduzca el año actual: 2021\n",
            "Introduzca su año de nacimiento: 2002\n",
            "Su edad es:  19.0\n"
          ],
          "name": "stdout"
        }
      ]
    },
    {
      "cell_type": "code",
      "metadata": {
        "colab": {
          "base_uri": "https://localhost:8080/"
        },
        "id": "Sqe4Fi3-xUCp",
        "outputId": "ac1809e4-1bbb-4121-82e5-c799826ab9c9"
      },
      "source": [
        "print(\"Computo 1\")\n",
        "resultado1 = lambda num1,num2,num3: (num1+num2+num3)/3\n",
        "num1 = float(input(\"Ingrese nota de laboratorio 1: \"))\n",
        "num2 = float(input(\"Ingrese Nota de laboratorio 2: \"))\n",
        "num3 = float(input(\"Ingrese la nota de parcial: \"))\n",
        "print(\"La nota es: \", resultado1(num1,num2,num3))\n",
        "\n",
        "print(\"\")\n",
        "\n",
        "print(\"Computo 2\")\n",
        "resultado2 = lambda num1,num2,num3: (num1+num2+num3)/3\n",
        "num1 = float(input(\"Ingrese nota de laboratorio 1: \"))\n",
        "num2 = float(input(\"Ingrese nota de laboratorio 2: \"))\n",
        "num3 = float(input(\"Ingrese la nota de parcial: \"))\n",
        "print(\"La suma es: \", resultado2(num1,num2,num3))\n",
        "\n",
        "print(\"\")\n",
        "\n",
        "print(\"Computo 3\")\n",
        "resultado3 = lambda num1,num2,num3: (num1+num2+num3)/3\n",
        "num1 = float(input(\"Ingrese nota de laboratorio 1: \"))\n",
        "num2 = float(input(\"Ingrese nota de laboratorio 2: \"))\n",
        "num3 = float(input(\"Ingrese nota de parcial: \"))\n",
        "print(\"La suma es: \", resultado3(num1,num2,num3))\n",
        "\n",
        "print(\"\")\n",
        "\n",
        "print(\"Nota Final\")\n",
        "nf = lambda nf1,nf2,nf3: (nf1+nf2+nf3)/3\n",
        "nf1 = float(input(\"Ingrese la nota del computo 1: \"))\n",
        "nf2 = float(input(\"Ingrese la nota del computo 2: \"))\n",
        "nf3 = float(input(\"Ingrese la nota del computo 3: \"))\n",
        "print(\"La nota final es: \", nf(nf1,nf2,nf3))"
      ],
      "execution_count": null,
      "outputs": [
        {
          "output_type": "stream",
          "text": [
            "Computo 1\n",
            "Ingrese nota de laboratorio 1: 5\n",
            "Ingrese Nota de laboratorio 2: 3\n",
            "Ingrese la nota de parcial: 2\n",
            "La nota es:  3.3333333333333335\n",
            "\n",
            "Computo 2\n",
            "Ingrese nota de laboratorio 1: 9\n",
            "Ingrese nota de laboratorio 2: 10\n",
            "Ingrese la nota de parcial: 8\n",
            "La suma es:  9.0\n",
            "\n",
            "Computo 3\n",
            "Ingrese nota de laboratorio 1: 1\n",
            "Ingrese nota de laboratorio 2: 4\n",
            "Ingrese nota de parcial: 6\n",
            "La suma es:  3.6666666666666665\n",
            "\n",
            "Nota Final\n",
            "Ingrese la nota del computo 1: 3.33\n",
            "Ingrese la nota del computo 2: 9\n",
            "Ingrese la nota del computo 3: 3.66\n",
            "La nota final es:  5.33\n"
          ],
          "name": "stdout"
        }
      ]
    },
    {
      "cell_type": "markdown",
      "metadata": {
        "id": "F7uRzzhJTw8C"
      },
      "source": [
        "Calcular sobre el sueldo las deducciones de ley isss (3%), afp 6.25%, isr (tabla) e imprima el sueldo neto y total deducciones\n"
      ]
    },
    {
      "cell_type": "code",
      "metadata": {
        "colab": {
          "base_uri": "https://localhost:8080/"
        },
        "id": "g-bhyHsvTyxm",
        "outputId": "ceaeb9d6-29d3-40e6-a2c5-cff170bcbc24"
      },
      "source": [
        "sueldo = float(input(\"Sueldo: \"))\n",
        "isss = sueldo*0.03\n",
        "afp = sueldo*0.0625\n",
        "sueldoNeto = sueldo - (isss + afp)\n",
        "\n",
        "tablaIsr = [\n",
        "            [0.01,   472.0,   0,   0    ],\n",
        "            [472.01, 895.24,  0.1, 17.67],\n",
        "            [895.25, 2038.10, 0.2, 60   ],\n",
        "            [2038.11, 99999 , 0.3, 288.57]\n",
        "]\n",
        "isr = 0\n",
        "for tramo in tablaIsr:\n",
        "  if sueldoNeto>=tramo[0] and sueldo<=tramo[1]:\n",
        "    isr = (sueldoNeto - tramo[0])*tramo[2] + tramo[3]\n",
        "sueldoNeto -= isr\n",
        "print(sueldo, \"Deducciones: \", (isss + afp + isr), \" Sueldo Neto: \", sueldoNeto)"
      ],
      "execution_count": 1,
      "outputs": [
        {
          "output_type": "stream",
          "text": [
            "Sueldo: 350\n",
            "350.0 Deducciones:  32.375  Sueldo Neto:  317.625\n"
          ],
          "name": "stdout"
        }
      ]
    },
    {
      "cell_type": "markdown",
      "metadata": {
        "id": "BZreIBszT9qC"
      },
      "source": [
        "Conversores:\n",
        "\n",
        "1- Monedas: Dolar, Euro, Lempiras, Cordobas, Quetzal, Colon SV, Colon CR, Yuan, Rublo Ruso, Rupia India.\n",
        "2-"
      ]
    },
    {
      "cell_type": "code",
      "metadata": {
        "colab": {
          "base_uri": "https://localhost:8080/"
        },
        "id": "1reNosrLUx3I",
        "outputId": "8150113b-32aa-4c87-84fd-5078cf4692c8"
      },
      "source": [
        "valores = [\n",
        "           [],\n",
        "           [0, 1, 0.85, 23.8, 35.11, 7.74, 8.75, 621.61, 6.46, 73.25, 73.50], #monedas\n",
        "           [0, 1, 100, 0.001, 0.000621371, 1.09361, 3.28084, 39.3701, 0.000539957, 1000, 1000000000], #Longitud\n",
        "           [0, 1, 16, 0.0714286, 0.0005, 0.000446429, 453600000000, 453592, 453.592, 0.453592, 0.000453592], #Masa\n",
        "           [0, 1, 0.001, 0.000001, 0.000000953674316, 0.000000001, 0.000000000931323, 0.000000000001, 0.000000000000909, 1000000000000000, 0.000976562], #Almacenamiento\n",
        "           [0, 1, 0.0166667, 0.000277778, 0.0000115741, 0.00000165344, 0.000000031688088, 1000000, 1000],#Tiempo\n",
        "           [],#Volumen\n",
        "           [],#Area\n",
        "           []\n",
        "]\n",
        "etiquetas = [\n",
        "           [],\n",
        "           [\"1. Dolar\", \"2. Euro\", \"3. Lempira\",\"4. Cordobas\", \"5. Quetzalez\", \"6. Colon SV\", \"7. Colon CR\", \"8. Yuan\", \"9. Rublo Ruso\", \"10. Rupia India\"],\n",
        "           [\"1. Metro\", \"2. Centimetro\", \"3. Kilometro\", \"4. Milla\", \"5. Yarda\", \"6. Pie\", \"7. Pulgada\", \"8. Milla Nautica\", \"9. Milimetro\", \"10. Nanometro\"],\n",
        "           [\"1. Libra\",\"2. Onza\", \"3. Stone \", \"4. Tonelada Corta \", \"5. Tonelada Larga\", \"6. Microgramo \", \"7. Miligramo\", \"8. Gramo\", \"9. Kilogramo\", \"10. Tonelada \"],\n",
        "           [\"1. Byte\", \"2. Kilobyte\", \"3. Megabyte \", \"4. Megabibyte \", \"5. Gigabytes\", \"6. Gigabibytes\", \"7. Terabytes\", \"8. Tebibytes\", \"9. Petabytes\", \"10. kilobibytes\"],\n",
        "           [\"1. Segundos\", \"2. Minutos\", \"3. Horas\", \"4. Dias\", \"5. Semanas\", \"6. Años\", \"7. Microsegundos\", \"8. Milesegundos\"],\n",
        "           [\"\"],\n",
        "           [\"\"],\n",
        "           []\n",
        "]\n",
        "def convertir(conversor, de, a, cantidad):\n",
        "  return valores[conversor][a]/valores[conversor][de] * cantidad\n",
        "\n",
        "print(\"*** MENU ***\")\n",
        "print(\"* 1. Monedas\")\n",
        "print(\"* 2. Longitud\")\n",
        "print(\"* 3. Masa\")\n",
        "print(\"* 4. Almacenamiento\")\n",
        "print(\"* 5. Tiempo\")\n",
        "\n",
        "conversor = int(input(\"Conversor: \"))\n",
        "\n",
        "print( etiquetas[conversor] )\n",
        "\n",
        "de = int(input(\"DE: \"))\n",
        "a = int(input(\"A: \"))\n",
        "cantidad = float(input(\"Cant: \"))\n",
        "\n",
        "print(\"Respuesta: \", convertir(conversor, de, a, cantidad) )"
      ],
      "execution_count": 12,
      "outputs": [
        {
          "output_type": "stream",
          "text": [
            "*** MENU ***\n",
            "* 1. Monedas\n",
            "* 2. Longitud\n",
            "* 3. Masa\n",
            "* 4. Almacenamiento\n",
            "* 5. Tiempo\n",
            "Conversor: 5\n",
            "['1. Segundos', '2. Minutos', '3. Horas', '4. Dias', '5. Semanas', '6. Años', '7. Microsegundos', '8. Milesegundos']\n",
            "DE: 1\n",
            "A: 6\n",
            "Cant: 1\n",
            "Respuesta:  3.1688088e-08\n"
          ],
          "name": "stdout"
        }
      ]
    }
  ]
}