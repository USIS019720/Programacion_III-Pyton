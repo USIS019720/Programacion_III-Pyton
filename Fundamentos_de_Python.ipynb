{
  "nbformat": 4,
  "nbformat_minor": 0,
  "metadata": {
    "colab": {
      "name": "Fundamentos de Python",
      "provenance": [],
      "authorship_tag": "ABX9TyO5FmbMqQubwt3lOQb6on7A",
      "include_colab_link": true
    },
    "kernelspec": {
      "name": "python3",
      "display_name": "Python 3"
    },
    "language_info": {
      "name": "python"
    }
  },
  "cells": [
    {
      "cell_type": "markdown",
      "metadata": {
        "id": "view-in-github",
        "colab_type": "text"
      },
      "source": [
        "<a href=\"https://colab.research.google.com/github/USIS019720/Programacion_III-Pyton/blob/Fundamentos-de-Pyton/Fundamentos_de_Python.ipynb\" target=\"_parent\"><img src=\"https://colab.research.google.com/assets/colab-badge.svg\" alt=\"Open In Colab\"/></a>"
      ]
    },
    {
      "cell_type": "code",
      "metadata": {
        "colab": {
          "base_uri": "https://localhost:8080/"
        },
        "id": "XaSKdYGcymrh",
        "outputId": "e2a5988b-76cd-43c7-b41c-97da8e374683"
      },
      "source": [
        "print(\"Hola Mundo\", \"Bienvenidos a Progra III con Python\", \"Hola Chicos, que tal...\")"
      ],
      "execution_count": null,
      "outputs": [
        {
          "output_type": "stream",
          "text": [
            "Hola Mundo Bienvenidos a Progra III con Python Hola Chicos, que tal...\n"
          ],
          "name": "stdout"
        }
      ]
    },
    {
      "cell_type": "code",
      "metadata": {
        "colab": {
          "base_uri": "https://localhost:8080/"
        },
        "id": "JGZntugUzExT",
        "outputId": "258bd473-faa1-4f51-892c-5b7fb71585f0"
      },
      "source": [
        "saludo =\"hola\"\n",
        "print(saludo + \"Mundo\")\n",
        "print(saludo[1])"
      ],
      "execution_count": null,
      "outputs": [
        {
          "output_type": "stream",
          "text": [
            "holaMundo\n",
            "o\n"
          ],
          "name": "stdout"
        }
      ]
    },
    {
      "cell_type": "code",
      "metadata": {
        "colab": {
          "base_uri": "https://localhost:8080/"
        },
        "id": "fCulguNzzX8F",
        "outputId": "db80c151-bd54-4c22-e11f-e67a3b557839"
      },
      "source": [
        "nombre = input(\"Como te llamas: \")\n",
        "print (\"Hola\"+nombre, \"Tu letra inicial es:\", nombre[0], \"Tu nombre tiene: \", nombre.__len__(), \" caracteres\")"
      ],
      "execution_count": null,
      "outputs": [
        {
          "output_type": "stream",
          "text": [
            "Como te llamas: David\n",
            "HolaDavid Tu letra inicial es: D Tu nombre tiene:  5  caracteres\n"
          ],
          "name": "stdout"
        }
      ]
    },
    {
      "cell_type": "code",
      "metadata": {
        "colab": {
          "base_uri": "https://localhost:8080/"
        },
        "id": "Pyf1OAj60Clg",
        "outputId": "e9cf4e19-f2b2-4463-c5f9-ab903c97d84e"
      },
      "source": [
        "num1 = 10\n",
        "num2 = 2.2\n",
        "resp = num1 + num2\n",
        "print(\"La suma es: \", resp)"
      ],
      "execution_count": null,
      "outputs": [
        {
          "output_type": "stream",
          "text": [
            "La suma es:  12.2\n"
          ],
          "name": "stdout"
        }
      ]
    },
    {
      "cell_type": "code",
      "metadata": {
        "colab": {
          "base_uri": "https://localhost:8080/"
        },
        "id": "3Eedx63I0bhG",
        "outputId": "698f7b8f-51e6-4fae-da3d-80011bc6da5b"
      },
      "source": [
        "num1 = input(\"Num1: \")\n",
        "num2 = input(\"Num2: \")\n",
        "resp = float(num2) #\"5.5\"-> 5.5\n",
        "print(\"La suma es: \", resp)"
      ],
      "execution_count": null,
      "outputs": [
        {
          "output_type": "stream",
          "text": [
            "Num1: 10\n",
            "Num2: 2.2\n",
            "La suma es:  2.2\n"
          ],
          "name": "stdout"
        }
      ]
    },
    {
      "cell_type": "code",
      "metadata": {
        "colab": {
          "base_uri": "https://localhost:8080/"
        },
        "id": "608oTuv81oLP",
        "outputId": "78dee1ae-001a-41a8-a9cc-7177ae14e783"
      },
      "source": [
        "print(nombre)"
      ],
      "execution_count": null,
      "outputs": [
        {
          "output_type": "stream",
          "text": [
            "David\n"
          ],
          "name": "stdout"
        }
      ]
    },
    {
      "cell_type": "code",
      "metadata": {
        "colab": {
          "base_uri": "https://localhost:8080/"
        },
        "id": "QJGk-Uf-5xdp",
        "outputId": "df4da6fe-3e25-4f0e-d431-9ca86babe68d"
      },
      "source": [
        "gustapython = True\n",
        "print(\"hola\", nombre, \"te gusta python\", gustapython)"
      ],
      "execution_count": null,
      "outputs": [
        {
          "output_type": "stream",
          "text": [
            "hola David te gusta python True\n"
          ],
          "name": "stdout"
        }
      ]
    },
    {
      "cell_type": "code",
      "metadata": {
        "colab": {
          "base_uri": "https://localhost:8080/"
        },
        "id": "R8UwP1gN8GGm",
        "outputId": "ec80cd57-071a-4ade-b6d7-2d00725ed6b7"
      },
      "source": [
        "def suma(num1, num2):\n",
        " resp = num1 + num2\n",
        " return resp\n",
        "num1 = float(input(\"num1: \"))\n",
        "num2 = float(input(\"num2: \"))\n",
        "resp = suma(6,5)\n",
        "print(resp)"
      ],
      "execution_count": null,
      "outputs": [
        {
          "output_type": "stream",
          "text": [
            "num1: 6\n",
            "num2: 5\n",
            "11\n"
          ],
          "name": "stdout"
        }
      ]
    },
    {
      "cell_type": "code",
      "metadata": {
        "colab": {
          "base_uri": "https://localhost:8080/"
        },
        "id": "qJRhqGnMvGVd",
        "outputId": "8716213d-d644-4cb8-f656-a841675488d1"
      },
      "source": [
        "num1 = int(input(\"Num1: \"))\n",
        "num2 = int(input(\"Num2: \"))\n",
        "print(\"Los numeros\", str(num1), \",\", str(num2), \"son iguales: \", str(num1==num2))"
      ],
      "execution_count": null,
      "outputs": [
        {
          "output_type": "stream",
          "text": [
            "Num1: 4\n",
            "Num2: 4\n",
            "Los numeros 4 , 4 son iguales:  True\n"
          ],
          "name": "stdout"
        }
      ]
    },
    {
      "cell_type": "code",
      "metadata": {
        "colab": {
          "base_uri": "https://localhost:8080/"
        },
        "id": "Ed1ncqdPyWvK",
        "outputId": "18e4c400-e0a3-453a-bdf8-3e7ebd46fef0"
      },
      "source": [
        "def convertirFC(f):\n",
        "   c = (f-32)*5/9\n",
        "   return c \n",
        "\n",
        "f = int(input(\"F: \"))\n",
        "print(\"F: \", str(f), \" a celsius: \", str( convertirFC(f) ))"
      ],
      "execution_count": null,
      "outputs": [
        {
          "output_type": "stream",
          "text": [
            "F: 1\n",
            "F:  1  a celsius:  59.4\n"
          ],
          "name": "stdout"
        }
      ]
    },
    {
      "cell_type": "code",
      "metadata": {
        "colab": {
          "base_uri": "https://localhost:8080/"
        },
        "id": "p4xXYpa-0KVt",
        "outputId": "951ef952-7949-46ad-a74e-820ee24ed94d"
      },
      "source": [
        "numHrs = int(input(\"Num. de Hrs trabajadas: \"))\n",
        "valorHr = float(input(\"Valor por hr: \"))\n",
        "\n",
        "sueldo = numHrs*valorHr*30\n",
        "print(\"Sueldo: \", sueldo)"
      ],
      "execution_count": null,
      "outputs": [
        {
          "output_type": "stream",
          "text": [
            "Num. de Hrs trabajadas: 10\n",
            "Valor por hr: 4.5\n",
            "Sueldo:  1350.0\n"
          ],
          "name": "stdout"
        }
      ]
    },
    {
      "cell_type": "code",
      "metadata": {
        "colab": {
          "base_uri": "https://localhost:8080/"
        },
        "id": "YdituqpQ1TTy",
        "outputId": "0757a95c-4e0f-4aa9-8d5a-969ad8445761"
      },
      "source": [
        "def calcularSueldo(numHrs, valorHr):\n",
        "   hrsExtras = 0\n",
        "   if( numHrs>8 ):\n",
        "     hrsExtras = numHrs-8\n",
        "   sueldo = (8*valorHr + hrsExtras*valorHr*2)*30\n",
        "   return sueldo\n",
        "\n",
        "numHrs = int(input(\"Num. hrs trabajadas: \"))\n",
        "valorHr = float(input(\"Valor x hr: \"))\n",
        "print(\"Sueldo: \", str(calcularSueldo(numHrs, valorHr)))"
      ],
      "execution_count": null,
      "outputs": [
        {
          "output_type": "stream",
          "text": [
            "Num. hrs trabajadas: 10\n",
            "Valor x hr: 4.5\n",
            "Sueldo:  1620.0\n"
          ],
          "name": "stdout"
        }
      ]
    },
    {
      "cell_type": "code",
      "metadata": {
        "colab": {
          "base_uri": "https://localhost:8080/"
        },
        "id": "iukbJG1j48Aw",
        "outputId": "ed5bac1d-eda3-4d06-af09-d5f786ecd08d"
      },
      "source": [
        "prioridad = 7 - 5*2 - 4/4*2 # 5*2= 10  4/4=1   1*2=2  7-10-2= -5\n",
        "print(str(prioridad))"
      ],
      "execution_count": null,
      "outputs": [
        {
          "output_type": "stream",
          "text": [
            "-5.0\n"
          ],
          "name": "stdout"
        }
      ]
    },
    {
      "cell_type": "code",
      "metadata": {
        "colab": {
          "base_uri": "https://localhost:8080/"
        },
        "id": "4z-ze2f2GqX3",
        "outputId": "0a3cf49d-0af2-4814-c323-4283ff5cf0fc"
      },
      "source": [
        "saludo = \"hola\"\n",
        "print(saludo + \" Mundo\")\n",
        "print( saludo[1] )"
      ],
      "execution_count": null,
      "outputs": [
        {
          "output_type": "stream",
          "text": [
            "hola Mundo\n",
            "o\n"
          ],
          "name": "stdout"
        }
      ]
    },
    {
      "cell_type": "code",
      "metadata": {
        "colab": {
          "base_uri": "https://localhost:8080/"
        },
        "id": "e431QOu2wpdf",
        "outputId": "18fc8aa1-f8e1-4e09-b14a-6b4796112489"
      },
      "source": [
        "suma = lambda num1,num2: num1+num2\n",
        "num1 = float(input(\"Num1: \"))\n",
        "num2 = float(input(\"Num2: \"))\n",
        "print(\"La suma es: \", suma(num1,num2))"
      ],
      "execution_count": 2,
      "outputs": [
        {
          "output_type": "stream",
          "text": [
            "Num1: 7\n",
            "Num2: 5\n",
            "La suma es:  12.0\n"
          ],
          "name": "stdout"
        }
      ]
    },
    {
      "cell_type": "code",
      "metadata": {
        "colab": {
          "base_uri": "https://localhost:8080/"
        },
        "id": "V9xy9HJtx6Vk",
        "outputId": "3c8095c0-c174-4ad0-9fda-29e86921fb8c"
      },
      "source": [
        "conversion = lambda f:(f-32)*5/9\n",
        "f = float(input(\"Fahrenheit: \"))\n",
        "print(\"Grados F: \", f, \" a C: \", conversion(f))"
      ],
      "execution_count": 3,
      "outputs": [
        {
          "output_type": "stream",
          "text": [
            "Fahrenheit: 105.5\n",
            "Grados F:  105.5  a C:  40.833333333333336\n"
          ],
          "name": "stdout"
        }
      ]
    },
    {
      "cell_type": "code",
      "metadata": {
        "colab": {
          "base_uri": "https://localhost:8080/"
        },
        "id": "FJrWjy-E1-MS",
        "outputId": "c977b86b-f8f7-40da-b051-d772980aff6e"
      },
      "source": [
        "cuadrado = lambda n:n**2\n",
        "n = int(input(\"N: \"))\n",
        "print(\"N: \", n, \"al cuadrado es: \",cuadrado(n))"
      ],
      "execution_count": 5,
      "outputs": [
        {
          "output_type": "stream",
          "text": [
            "N: 3\n",
            "N:  3 al cuadrado es:  9\n"
          ],
          "name": "stdout"
        }
      ]
    },
    {
      "cell_type": "code",
      "metadata": {
        "colab": {
          "base_uri": "https://localhost:8080/"
        },
        "id": "B_Z_bo-l2l67",
        "outputId": "5a0ed527-89c5-42ae-b357-1d12bb3ad0d0"
      },
      "source": [
        "cubo = lambda n:n**3\n",
        "n = int(input(\"n: \"))\n",
        "print(\"N: \", n, \" al cubo es: \", cubo(n))"
      ],
      "execution_count": 6,
      "outputs": [
        {
          "output_type": "stream",
          "text": [
            "n: 3\n",
            "N:  3  al cubo es:  27\n"
          ],
          "name": "stdout"
        }
      ]
    },
    {
      "cell_type": "code",
      "metadata": {
        "colab": {
          "base_uri": "https://localhost:8080/"
        },
        "id": "U54veUx526hx",
        "outputId": "637e473e-1ed9-451c-b5ea-1f8e054376a5"
      },
      "source": [
        "exp = lambda n,e:n**e\n",
        "n = int(input(\"N: \"))\n",
        "e = int(input(\"Exponente: \"))\n",
        "print(n, \" elevado al exp: \", e, \"es\", exp(n,e))"
      ],
      "execution_count": 8,
      "outputs": [
        {
          "output_type": "stream",
          "text": [
            "N: 3\n",
            "Exponente: 4\n",
            "3  elevado al exp:  4 es 81\n"
          ],
          "name": "stdout"
        }
      ]
    },
    {
      "cell_type": "code",
      "metadata": {
        "colab": {
          "base_uri": "https://localhost:8080/"
        },
        "id": "6mTpfq6j3zOU",
        "outputId": "69fe61b5-ca95-4e3c-8997-a2cf9dffb496"
      },
      "source": [
        "lista =[1,2,3]\n",
        "resp = list(map(lambda n:n*2, lista))\n",
        "print(resp)"
      ],
      "execution_count": 12,
      "outputs": [
        {
          "output_type": "stream",
          "text": [
            "[2, 4, 6]\n"
          ],
          "name": "stdout"
        }
      ]
    },
    {
      "cell_type": "code",
      "metadata": {
        "colab": {
          "base_uri": "https://localhost:8080/"
        },
        "id": "SICZzbVA4_C5",
        "outputId": "dbad9644-696f-4e42-c70a-82c874460ced"
      },
      "source": [
        "gf_dep = [85,58,105]\n",
        "c_dep = list(map(conversion, gf_dep))\n",
        "print(\"los grados F: \", gf_dep, \" en celsius es: \", c_dep)"
      ],
      "execution_count": 13,
      "outputs": [
        {
          "output_type": "stream",
          "text": [
            "los grados F:  [85, 58, 105]  en celsius es:  [29.444444444444443, 14.444444444444445, 40.55555555555556]\n"
          ],
          "name": "stdout"
        }
      ]
    },
    {
      "cell_type": "code",
      "metadata": {
        "colab": {
          "base_uri": "https://localhost:8080/"
        },
        "id": "fsnhMpEc51jb",
        "outputId": "24703ade-9873-45ae-a7fe-a1ee6f856e68"
      },
      "source": [
        "resp = list(map(cuadrado, lista))\n",
        "\n",
        "print(\"La lista \",lista, \" al cuadrado es: \", resp)"
      ],
      "execution_count": 15,
      "outputs": [
        {
          "output_type": "stream",
          "text": [
            "La lista  [1, 2, 3]  al cuadrado es:  [1, 4, 9]\n"
          ],
          "name": "stdout"
        }
      ]
    },
    {
      "cell_type": "code",
      "metadata": {
        "colab": {
          "base_uri": "https://localhost:8080/"
        },
        "id": "PBOGLfeD6Obf",
        "outputId": "e28c88a2-0baa-474f-9497-c663a9646fc9"
      },
      "source": [
        "resp = list(map(cubo, lista))\n",
        "\n",
        "print(\"La lista \",lista, \" al cubo es: \", resp)"
      ],
      "execution_count": 16,
      "outputs": [
        {
          "output_type": "stream",
          "text": [
            "La lista  [1, 2, 3]  al cubo es:  [1, 8, 27]\n"
          ],
          "name": "stdout"
        }
      ]
    },
    {
      "cell_type": "code",
      "metadata": {
        "colab": {
          "base_uri": "https://localhost:8080/"
        },
        "id": "5_1_V61r6nxb",
        "outputId": "c7af6825-5f51-4ac7-c9b9-38b74f8d2bd8"
      },
      "source": [
        "resp = list(filter(lambda n:n>2, lista))\n",
        "print(\"Los numeros > 2 de la lista \", lista, \" son: \", resp)"
      ],
      "execution_count": 18,
      "outputs": [
        {
          "output_type": "stream",
          "text": [
            "Los numeros > 2 de la lista  [1, 2, 3]  son:  [3]\n"
          ],
          "name": "stdout"
        }
      ]
    },
    {
      "cell_type": "code",
      "metadata": {
        "colab": {
          "base_uri": "https://localhost:8080/"
        },
        "id": "YuLTRsFQ7ajM",
        "outputId": "b769513e-b078-46c3-abaa-03463dc7e0ab"
      },
      "source": [
        "resp = list(filter(lambda n:n%2==0, lista))\n",
        "print(\"Los numeros pares de la lista \", lista, \" son: \", resp)"
      ],
      "execution_count": 20,
      "outputs": [
        {
          "output_type": "stream",
          "text": [
            "Los numeros pares de la lista  [1, 2, 3]  son:  [2]\n"
          ],
          "name": "stdout"
        }
      ]
    },
    {
      "cell_type": "code",
      "metadata": {
        "colab": {
          "base_uri": "https://localhost:8080/"
        },
        "id": "wwQXzGB88px5",
        "outputId": "2ed844a9-dcb7-4bd6-fc41-b9cce30acc05"
      },
      "source": [
        "resp = list(filter(lambda n:n%2!=0, lista))\n",
        "print(\"Los numeros impares de la lista \", lista, \" son: \", resp)"
      ],
      "execution_count": 21,
      "outputs": [
        {
          "output_type": "stream",
          "text": [
            "Los numeros impares de la lista  [1, 2, 3]  son:  [1, 3]\n"
          ],
          "name": "stdout"
        }
      ]
    },
    {
      "cell_type": "code",
      "metadata": {
        "colab": {
          "base_uri": "https://localhost:8080/"
        },
        "id": "vp0bHVKM_QYt",
        "outputId": "dca49893-8c22-4df9-8fbb-8e22028ed198"
      },
      "source": [
        "from functools import reduce\n",
        "resp = reduce(lambda x,y:x+y, lista)\n",
        "print(\"La suma de la lista \", lista, \" es: \", resp, \" la media es: \", resp/len(lista))"
      ],
      "execution_count": 26,
      "outputs": [
        {
          "output_type": "stream",
          "text": [
            "La suma de la lista  [1, 2, 3]  es:  6  la media es:  2.0\n"
          ],
          "name": "stdout"
        }
      ]
    }
  ]
}