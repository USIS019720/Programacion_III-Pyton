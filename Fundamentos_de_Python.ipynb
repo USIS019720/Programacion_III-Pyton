{
  "nbformat": 4,
  "nbformat_minor": 0,
  "metadata": {
    "colab": {
      "name": "Fundamentos de Python",
      "provenance": [],
      "authorship_tag": "ABX9TyOio+qe5YKIqAQgNCa+Qi3M",
      "include_colab_link": true
    },
    "kernelspec": {
      "name": "python3",
      "display_name": "Python 3"
    },
    "language_info": {
      "name": "python"
    }
  },
  "cells": [
    {
      "cell_type": "markdown",
      "metadata": {
        "id": "view-in-github",
        "colab_type": "text"
      },
      "source": [
        "<a href=\"https://colab.research.google.com/github/USIS019720/Programacion_III-Pyton/blob/Fundamentos-de-Pyton/Fundamentos_de_Python.ipynb\" target=\"_parent\"><img src=\"https://colab.research.google.com/assets/colab-badge.svg\" alt=\"Open In Colab\"/></a>"
      ]
    },
    {
      "cell_type": "code",
      "metadata": {
        "colab": {
          "base_uri": "https://localhost:8080/"
        },
        "id": "XaSKdYGcymrh",
        "outputId": "e2a5988b-76cd-43c7-b41c-97da8e374683"
      },
      "source": [
        "print(\"Hola Mundo\", \"Bienvenidos a Progra III con Python\", \"Hola Chicos, que tal...\")"
      ],
      "execution_count": 1,
      "outputs": [
        {
          "output_type": "stream",
          "text": [
            "Hola Mundo Bienvenidos a Progra III con Python Hola Chicos, que tal...\n"
          ],
          "name": "stdout"
        }
      ]
    },
    {
      "cell_type": "code",
      "metadata": {
        "colab": {
          "base_uri": "https://localhost:8080/"
        },
        "id": "JGZntugUzExT",
        "outputId": "258bd473-faa1-4f51-892c-5b7fb71585f0"
      },
      "source": [
        "saludo =\"hola\"\n",
        "print(saludo + \"Mundo\")\n",
        "print(saludo[1])"
      ],
      "execution_count": 2,
      "outputs": [
        {
          "output_type": "stream",
          "text": [
            "holaMundo\n",
            "o\n"
          ],
          "name": "stdout"
        }
      ]
    },
    {
      "cell_type": "code",
      "metadata": {
        "colab": {
          "base_uri": "https://localhost:8080/"
        },
        "id": "fCulguNzzX8F",
        "outputId": "db80c151-bd54-4c22-e11f-e67a3b557839"
      },
      "source": [
        "nombre = input(\"Como te llamas: \")\n",
        "print (\"Hola\"+nombre, \"Tu letra inicial es:\", nombre[0], \"Tu nombre tiene: \", nombre.__len__(), \" caracteres\")"
      ],
      "execution_count": 4,
      "outputs": [
        {
          "output_type": "stream",
          "text": [
            "Como te llamas: David\n",
            "HolaDavid Tu letra inicial es: D Tu nombre tiene:  5  caracteres\n"
          ],
          "name": "stdout"
        }
      ]
    },
    {
      "cell_type": "code",
      "metadata": {
        "colab": {
          "base_uri": "https://localhost:8080/"
        },
        "id": "Pyf1OAj60Clg",
        "outputId": "e9cf4e19-f2b2-4463-c5f9-ab903c97d84e"
      },
      "source": [
        "num1 = 10\n",
        "num2 = 2.2\n",
        "resp = num1 + num2\n",
        "print(\"La suma es: \", resp)"
      ],
      "execution_count": 5,
      "outputs": [
        {
          "output_type": "stream",
          "text": [
            "La suma es:  12.2\n"
          ],
          "name": "stdout"
        }
      ]
    },
    {
      "cell_type": "code",
      "metadata": {
        "colab": {
          "base_uri": "https://localhost:8080/"
        },
        "id": "3Eedx63I0bhG",
        "outputId": "698f7b8f-51e6-4fae-da3d-80011bc6da5b"
      },
      "source": [
        "num1 = input(\"Num1: \")\n",
        "num2 = input(\"Num2: \")\n",
        "resp = float(num2) #\"5.5\"-> 5.5\n",
        "print(\"La suma es: \", resp)"
      ],
      "execution_count": 9,
      "outputs": [
        {
          "output_type": "stream",
          "text": [
            "Num1: 10\n",
            "Num2: 2.2\n",
            "La suma es:  2.2\n"
          ],
          "name": "stdout"
        }
      ]
    },
    {
      "cell_type": "code",
      "metadata": {
        "colab": {
          "base_uri": "https://localhost:8080/"
        },
        "id": "608oTuv81oLP",
        "outputId": "78dee1ae-001a-41a8-a9cc-7177ae14e783"
      },
      "source": [
        "print(nombre)"
      ],
      "execution_count": 7,
      "outputs": [
        {
          "output_type": "stream",
          "text": [
            "David\n"
          ],
          "name": "stdout"
        }
      ]
    },
    {
      "cell_type": "code",
      "metadata": {
        "colab": {
          "base_uri": "https://localhost:8080/"
        },
        "id": "QJGk-Uf-5xdp",
        "outputId": "df4da6fe-3e25-4f0e-d431-9ca86babe68d"
      },
      "source": [
        "gustapython = True\n",
        "print(\"hola\", nombre, \"te gusta python\", gustapython)"
      ],
      "execution_count": 10,
      "outputs": [
        {
          "output_type": "stream",
          "text": [
            "hola David te gusta python True\n"
          ],
          "name": "stdout"
        }
      ]
    },
    {
      "cell_type": "code",
      "metadata": {
        "colab": {
          "base_uri": "https://localhost:8080/"
        },
        "id": "R8UwP1gN8GGm",
        "outputId": "2c4f96ea-4cb6-4126-9a48-ecfa5dc1e70a"
      },
      "source": [
        "def suma(num1, num2):\n",
        " resp = num1 + num2\n",
        " return resp\n",
        "num1 = float(input(\"num1: \"))\n",
        "num2 = float(input(\"num2: \"))\n",
        "resp = suma(6,5)\n",
        "print(resp)"
      ],
      "execution_count": 14,
      "outputs": [
        {
          "output_type": "stream",
          "text": [
            "num1: 6\n",
            "num2: 5\n",
            "11\n"
          ],
          "name": "stdout"
        }
      ]
    }
  ]
}