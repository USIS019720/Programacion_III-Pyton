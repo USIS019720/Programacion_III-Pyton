{
  "nbformat": 4,
  "nbformat_minor": 0,
  "metadata": {
    "colab": {
      "name": "Conversores",
      "provenance": [],
      "collapsed_sections": [],
      "authorship_tag": "ABX9TyMNEAfKQp1CCPp4O4DVpSed",
      "include_colab_link": true
    },
    "kernelspec": {
      "name": "python3",
      "display_name": "Python 3"
    },
    "language_info": {
      "name": "python"
    }
  },
  "cells": [
    {
      "cell_type": "markdown",
      "metadata": {
        "id": "view-in-github",
        "colab_type": "text"
      },
      "source": [
        "<a href=\"https://colab.research.google.com/github/USIS019720/Programacion_III-Pyton/blob/Conversores-con-IA/Conversores.ipynb\" target=\"_parent\"><img src=\"https://colab.research.google.com/assets/colab-badge.svg\" alt=\"Open In Colab\"/></a>"
      ]
    },
    {
      "cell_type": "markdown",
      "metadata": {
        "id": "dc_X8WPiIh8I"
      },
      "source": [
        "Conversor de monedas (dolar a Colon sv)"
      ]
    },
    {
      "cell_type": "code",
      "metadata": {
        "id": "7F3taN8GIEk-"
      },
      "source": [
        "#importacio de librerias \n",
        "import tensorflow as tf\n",
        "import pandas as pd\n",
        "import matplotlib.pyplot as plt"
      ],
      "execution_count": null,
      "outputs": []
    },
    {
      "cell_type": "code",
      "metadata": {
        "id": "FYNaJWR2KPsX"
      },
      "source": [
        "#leer los datos de entrenamiento\n",
        "monedas = pd.read_csv(\"/content/monedas.csv\", sep=\",\")"
      ],
      "execution_count": null,
      "outputs": []
    },
    {
      "cell_type": "code",
      "metadata": {
        "id": "phAAcgc1KWvz"
      },
      "source": [
        "#separar los datos de entrada y salida\n",
        "D = monedas[\"dolar\"]\n",
        "C = monedas[\"colon sv\"]"
      ],
      "execution_count": null,
      "outputs": []
    },
    {
      "cell_type": "code",
      "metadata": {
        "id": "DBdzNL7FK3ND"
      },
      "source": [
        "#creando modelo de entrenamiento\n",
        "modelo = tf.keras.Sequential()\n",
        "modelo.add(tf.keras.layers.Dense(units=1, input_shape=[1]))"
      ],
      "execution_count": null,
      "outputs": []
    },
    {
      "cell_type": "code",
      "metadata": {
        "id": "1mefrOErK5dt"
      },
      "source": [
        "#compilar el modelo de entrenamiento\n",
        "modelo.compile(optimizer=tf.keras.optimizers.Adam(1),loss='mean_squared_error')"
      ],
      "execution_count": null,
      "outputs": []
    },
    {
      "cell_type": "code",
      "metadata": {
        "id": "xIQ7tjOMK7aM"
      },
      "source": [
        "#entrenar el modelo de IA\n",
        "historial = modelo.fit(D,C, epochs=390, verbose=0)"
      ],
      "execution_count": null,
      "outputs": []
    },
    {
      "cell_type": "code",
      "metadata": {
        "colab": {
          "base_uri": "https://localhost:8080/"
        },
        "id": "m5YMK9-oLDWd",
        "outputId": "db93712a-c2f2-4a76-eaa7-6cf22ce644c1"
      },
      "source": [
        "Colon = modelo.predict([11])\n",
        "print(Colon)"
      ],
      "execution_count": null,
      "outputs": [
        {
          "output_type": "stream",
          "name": "stdout",
          "text": [
            "[[96.27318]]\n"
          ]
        }
      ]
    },
    {
      "cell_type": "markdown",
      "metadata": {
        "id": "A-iqzYogMKA8"
      },
      "source": [
        "Conversor de Masa (Tonelada a Libra)"
      ]
    },
    {
      "cell_type": "code",
      "metadata": {
        "id": "zHHhuZyfM8Os"
      },
      "source": [
        "#leer los datos de entrenamiento\n",
        "masa = pd.read_csv(\"/content/masa.csv\", sep=\",\")"
      ],
      "execution_count": null,
      "outputs": []
    },
    {
      "cell_type": "code",
      "metadata": {
        "id": "x9kq0heFQ8AN"
      },
      "source": [
        "#separar los datos de entrada y salida\n",
        "T = masa[\"tonelada\"]\n",
        "L = masa[\"libra\"]"
      ],
      "execution_count": null,
      "outputs": []
    },
    {
      "cell_type": "code",
      "metadata": {
        "id": "VYPEVSSkRSEo"
      },
      "source": [
        "#creando modelo de entrenamiento\n",
        "modelo = tf.keras.Sequential()\n",
        "modelo.add(tf.keras.layers.Dense(units=1, input_shape=[1]))"
      ],
      "execution_count": null,
      "outputs": []
    },
    {
      "cell_type": "code",
      "metadata": {
        "id": "Po2VEvi6RUMV"
      },
      "source": [
        "#compilar el modelo de entrenamiento\n",
        "modelo.compile(optimizer=tf.keras.optimizers.Adam(1),loss='mean_squared_error')"
      ],
      "execution_count": null,
      "outputs": []
    },
    {
      "cell_type": "code",
      "metadata": {
        "id": "94ZnBRxQRW02"
      },
      "source": [
        "#entrenar el modelo de IA\n",
        "historial = modelo.fit(T,L, epochs=1400, verbose=0)"
      ],
      "execution_count": null,
      "outputs": []
    },
    {
      "cell_type": "code",
      "metadata": {
        "colab": {
          "base_uri": "https://localhost:8080/"
        },
        "id": "niMRmSzmRcLv",
        "outputId": "be3de18d-fdd2-492e-aaf0-14e9199924d0"
      },
      "source": [
        "libra = modelo.predict([11])\n",
        "print(libra)"
      ],
      "execution_count": null,
      "outputs": [
        {
          "output_type": "stream",
          "name": "stdout",
          "text": [
            "[[24250.85]]\n"
          ]
        }
      ]
    },
    {
      "cell_type": "markdown",
      "metadata": {
        "id": "yrOf_zCKTGwZ"
      },
      "source": [
        "conversor de Longitud (Metro a centimetro)"
      ]
    },
    {
      "cell_type": "code",
      "metadata": {
        "id": "WWUkmy4pTQ1y"
      },
      "source": [
        "#leer los datos de entrenamiento\n",
        "longitud = pd.read_csv(\"/content/longitud.csv\", sep=\",\")"
      ],
      "execution_count": null,
      "outputs": []
    },
    {
      "cell_type": "code",
      "metadata": {
        "id": "A8XknaJLTg5b"
      },
      "source": [
        "M = longitud[\"metro\"]\n",
        "C = longitud[\"centimetro\"]"
      ],
      "execution_count": null,
      "outputs": []
    },
    {
      "cell_type": "code",
      "metadata": {
        "id": "LDC2smW1T1bC"
      },
      "source": [
        "modelo = tf.keras.Sequential()\n",
        "modelo.add(tf.keras.layers.Dense(units=1, input_shape=[1]))"
      ],
      "execution_count": null,
      "outputs": []
    },
    {
      "cell_type": "code",
      "metadata": {
        "id": "iMuXrZYDT410"
      },
      "source": [
        "modelo.compile(optimizer=tf.keras.optimizers.Adam(1),loss='mean_squared_error')"
      ],
      "execution_count": null,
      "outputs": []
    },
    {
      "cell_type": "code",
      "metadata": {
        "id": "NvcuUfxdT8VQ"
      },
      "source": [
        "historial = modelo.fit(M,C, epochs=5000, verbose=0)"
      ],
      "execution_count": null,
      "outputs": []
    },
    {
      "cell_type": "code",
      "metadata": {
        "colab": {
          "base_uri": "https://localhost:8080/"
        },
        "id": "dMZJHUZ6UMvb",
        "outputId": "d79ff8e8-6955-4675-cc10-a32e93340077"
      },
      "source": [
        "centimetro = modelo.predict([1000])\n",
        "print(centimetro)"
      ],
      "execution_count": null,
      "outputs": [
        {
          "output_type": "stream",
          "name": "stdout",
          "text": [
            "[[100000.]]\n"
          ]
        }
      ]
    },
    {
      "cell_type": "markdown",
      "metadata": {
        "id": "LzxCYFqjU3Yp"
      },
      "source": [
        "Conversor de Almacenamiento ( bit a kilobits)"
      ]
    },
    {
      "cell_type": "code",
      "metadata": {
        "id": "A0OykCgze5Cl"
      },
      "source": [
        "Almacenamiento = pd.read_csv(\"/content/Almacenamiento.csv\", sep=\";\")"
      ],
      "execution_count": 100,
      "outputs": []
    },
    {
      "cell_type": "code",
      "metadata": {
        "id": "mVHLGe4Ue_aW"
      },
      "source": [
        "bit = Almacenamiento[\"bit\"]\n",
        "kilobyte = Almacenamiento[\"kilobyte\"]"
      ],
      "execution_count": 101,
      "outputs": []
    },
    {
      "cell_type": "code",
      "metadata": {
        "id": "3clcezppfJkE"
      },
      "source": [
        "modelo = tf.keras.Sequential()\n",
        "modelo.add(tf.keras.layers.Dense(units=1, input_shape=[1]))"
      ],
      "execution_count": 102,
      "outputs": []
    },
    {
      "cell_type": "code",
      "metadata": {
        "id": "89siZ9jpfM8K"
      },
      "source": [
        "modelo.compile(optimizer=tf.keras.optimizers.Adam(1),loss='mean_squared_error')"
      ],
      "execution_count": 103,
      "outputs": []
    },
    {
      "cell_type": "code",
      "metadata": {
        "id": "M6R2B3LefP2b"
      },
      "source": [
        "epocas = modelo.fit(bit, kilobyte, epochs=400, verbose=0)"
      ],
      "execution_count": 105,
      "outputs": []
    },
    {
      "cell_type": "code",
      "metadata": {
        "colab": {
          "base_uri": "https://localhost:8080/"
        },
        "id": "pk8F3j95fbeE",
        "outputId": "2d5bdc7f-9923-49db-d284-21b0e161e83f"
      },
      "source": [
        "f = modelo.predict([68])\n",
        "print(f)"
      ],
      "execution_count": 106,
      "outputs": [
        {
          "output_type": "stream",
          "name": "stdout",
          "text": [
            "[[0.0085]]\n"
          ]
        }
      ]
    },
    {
      "cell_type": "markdown",
      "metadata": {
        "id": "NniqJHLLgKUO"
      },
      "source": [
        "conversor de tiempo\n"
      ]
    },
    {
      "cell_type": "code",
      "metadata": {
        "id": "4IV1HBTEgOig"
      },
      "source": [
        "time = pd.read_csv(\"/content/time.csv\", sep=\",\")"
      ],
      "execution_count": 107,
      "outputs": []
    },
    {
      "cell_type": "code",
      "metadata": {
        "id": "o4tI7biDiaiM"
      },
      "source": [
        "siglo = time[\"siglo\"]\n",
        "mes = time[\"mes\"]"
      ],
      "execution_count": 108,
      "outputs": []
    },
    {
      "cell_type": "code",
      "metadata": {
        "id": "ZQTBElUiioal"
      },
      "source": [
        "modelo = tf.keras.Sequential()\n",
        "modelo.add(tf.keras.layers.Dense(units=1, input_shape=[1]))"
      ],
      "execution_count": 109,
      "outputs": []
    },
    {
      "cell_type": "code",
      "metadata": {
        "id": "8hhjDfaUisx8"
      },
      "source": [
        "modelo.compile(optimizer=tf.keras.optimizers.Adam(1),loss='mean_squared_error')"
      ],
      "execution_count": 110,
      "outputs": []
    },
    {
      "cell_type": "code",
      "metadata": {
        "id": "cqX9Gm_JixJY"
      },
      "source": [
        "epocas = modelo.fit(siglo, mes, epochs=6000, verbose=0)"
      ],
      "execution_count": 135,
      "outputs": []
    },
    {
      "cell_type": "code",
      "metadata": {
        "colab": {
          "base_uri": "https://localhost:8080/"
        },
        "id": "79OHJlZzi8CO",
        "outputId": "527fcfa1-b3e9-45ba-9145-7b699d4f33a9"
      },
      "source": [
        "j = modelo.predict([100])\n",
        "print(j)"
      ],
      "execution_count": 137,
      "outputs": [
        {
          "output_type": "stream",
          "name": "stdout",
          "text": [
            "[[120000.]]\n"
          ]
        }
      ]
    },
    {
      "cell_type": "markdown",
      "metadata": {
        "id": "hMONcq0xkF-p"
      },
      "source": [
        "conversor area( kilometro cuadrado a hectarea)"
      ]
    },
    {
      "cell_type": "code",
      "metadata": {
        "id": "6HESvl7BkMN_"
      },
      "source": [
        "Area = pd.read_csv(\"/content/Area.csv\", sep=\";\")"
      ],
      "execution_count": 138,
      "outputs": []
    },
    {
      "cell_type": "code",
      "metadata": {
        "id": "CJlOptMGkagt"
      },
      "source": [
        "kilometrocuadrado = Area[\"kilometro cuadrado\"]\n",
        "hectarea = Area[\"hectarea\"]"
      ],
      "execution_count": 139,
      "outputs": []
    },
    {
      "cell_type": "code",
      "metadata": {
        "id": "APLGkyO6kd3Z"
      },
      "source": [
        "modelo = tf.keras.Sequential()\n",
        "modelo.add(tf.keras.layers.Dense(units=1, input_shape=[1]))"
      ],
      "execution_count": 140,
      "outputs": []
    },
    {
      "cell_type": "code",
      "metadata": {
        "id": "XE11YoxdkfCF"
      },
      "source": [
        "modelo.compile(optimizer=tf.keras.optimizers.Adam(1),loss='mean_squared_error')"
      ],
      "execution_count": 141,
      "outputs": []
    },
    {
      "cell_type": "code",
      "metadata": {
        "id": "UwCyVZewkh5u"
      },
      "source": [
        "epocas = modelo.fit(kilometrocuadrado, hectarea, epochs=1190, verbose=0)"
      ],
      "execution_count": 148,
      "outputs": []
    },
    {
      "cell_type": "code",
      "metadata": {
        "colab": {
          "base_uri": "https://localhost:8080/"
        },
        "id": "Snd7ImwBkxEc",
        "outputId": "8a93ff25-bcb5-4995-e08d-095fb98cc952"
      },
      "source": [
        "f = modelo.predict([78])\n",
        "print(f)"
      ],
      "execution_count": 149,
      "outputs": [
        {
          "output_type": "stream",
          "name": "stdout",
          "text": [
            "[[7800.]]\n"
          ]
        }
      ]
    }
  ]
}