{
  "nbformat": 4,
  "nbformat_minor": 0,
  "metadata": {
    "colab": {
      "name": "Conversores",
      "provenance": [],
      "collapsed_sections": [],
      "authorship_tag": "ABX9TyNvO/iyMivoDHB7qmC8+kBw",
      "include_colab_link": true
    },
    "kernelspec": {
      "name": "python3",
      "display_name": "Python 3"
    },
    "language_info": {
      "name": "python"
    }
  },
  "cells": [
    {
      "cell_type": "markdown",
      "metadata": {
        "id": "view-in-github",
        "colab_type": "text"
      },
      "source": [
        "<a href=\"https://colab.research.google.com/github/USIS019720/Programacion_III-Pyton/blob/Conversores-con-IA/Conversores.ipynb\" target=\"_parent\"><img src=\"https://colab.research.google.com/assets/colab-badge.svg\" alt=\"Open In Colab\"/></a>"
      ]
    },
    {
      "cell_type": "markdown",
      "metadata": {
        "id": "dc_X8WPiIh8I"
      },
      "source": [
        "Conversor de monedas (dolar a Colon sv)"
      ]
    },
    {
      "cell_type": "code",
      "metadata": {
        "id": "7F3taN8GIEk-"
      },
      "source": [
        "#importacio de librerias \n",
        "import tensorflow as tf\n",
        "import pandas as pd\n",
        "import matplotlib.pyplot as plt"
      ],
      "execution_count": 1,
      "outputs": []
    },
    {
      "cell_type": "code",
      "metadata": {
        "id": "FYNaJWR2KPsX"
      },
      "source": [
        "#leer los datos de entrenamiento\n",
        "monedas = pd.read_csv(\"/content/monedas.csv\", sep=\",\")"
      ],
      "execution_count": null,
      "outputs": []
    },
    {
      "cell_type": "code",
      "metadata": {
        "id": "phAAcgc1KWvz"
      },
      "source": [
        "#separar los datos de entrada y salida\n",
        "D = monedas[\"dolar\"]\n",
        "C = monedas[\"colon sv\"]"
      ],
      "execution_count": null,
      "outputs": []
    },
    {
      "cell_type": "code",
      "metadata": {
        "id": "DBdzNL7FK3ND"
      },
      "source": [
        "#creando modelo de entrenamiento\n",
        "modelo = tf.keras.Sequential()\n",
        "modelo.add(tf.keras.layers.Dense(units=1, input_shape=[1]))"
      ],
      "execution_count": null,
      "outputs": []
    },
    {
      "cell_type": "code",
      "metadata": {
        "id": "1mefrOErK5dt"
      },
      "source": [
        "#compilar el modelo de entrenamiento\n",
        "modelo.compile(optimizer=tf.keras.optimizers.Adam(1),loss='mean_squared_error')"
      ],
      "execution_count": null,
      "outputs": []
    },
    {
      "cell_type": "code",
      "metadata": {
        "id": "xIQ7tjOMK7aM"
      },
      "source": [
        "#entrenar el modelo de IA\n",
        "historial = modelo.fit(D,C, epochs=390, verbose=0)"
      ],
      "execution_count": null,
      "outputs": []
    },
    {
      "cell_type": "code",
      "metadata": {
        "colab": {
          "base_uri": "https://localhost:8080/"
        },
        "id": "m5YMK9-oLDWd",
        "outputId": "db93712a-c2f2-4a76-eaa7-6cf22ce644c1"
      },
      "source": [
        "Colon = modelo.predict([11])\n",
        "print(Colon)"
      ],
      "execution_count": null,
      "outputs": [
        {
          "output_type": "stream",
          "name": "stdout",
          "text": [
            "[[96.27318]]\n"
          ]
        }
      ]
    },
    {
      "cell_type": "markdown",
      "metadata": {
        "id": "A-iqzYogMKA8"
      },
      "source": [
        "Conversor de Masa (Tonelada a Libra)"
      ]
    },
    {
      "cell_type": "code",
      "metadata": {
        "id": "zHHhuZyfM8Os"
      },
      "source": [
        "#leer los datos de entrenamiento\n",
        "masa = pd.read_csv(\"/content/masa.csv\", sep=\",\")"
      ],
      "execution_count": null,
      "outputs": []
    },
    {
      "cell_type": "code",
      "metadata": {
        "id": "x9kq0heFQ8AN"
      },
      "source": [
        "#separar los datos de entrada y salida\n",
        "T = masa[\"tonelada\"]\n",
        "L = masa[\"libra\"]"
      ],
      "execution_count": null,
      "outputs": []
    },
    {
      "cell_type": "code",
      "metadata": {
        "id": "VYPEVSSkRSEo"
      },
      "source": [
        "#creando modelo de entrenamiento\n",
        "modelo = tf.keras.Sequential()\n",
        "modelo.add(tf.keras.layers.Dense(units=1, input_shape=[1]))"
      ],
      "execution_count": null,
      "outputs": []
    },
    {
      "cell_type": "code",
      "metadata": {
        "id": "Po2VEvi6RUMV"
      },
      "source": [
        "#compilar el modelo de entrenamiento\n",
        "modelo.compile(optimizer=tf.keras.optimizers.Adam(1),loss='mean_squared_error')"
      ],
      "execution_count": null,
      "outputs": []
    },
    {
      "cell_type": "code",
      "metadata": {
        "id": "94ZnBRxQRW02"
      },
      "source": [
        "#entrenar el modelo de IA\n",
        "historial = modelo.fit(T,L, epochs=1400, verbose=0)"
      ],
      "execution_count": null,
      "outputs": []
    },
    {
      "cell_type": "code",
      "metadata": {
        "colab": {
          "base_uri": "https://localhost:8080/"
        },
        "id": "niMRmSzmRcLv",
        "outputId": "be3de18d-fdd2-492e-aaf0-14e9199924d0"
      },
      "source": [
        "libra = modelo.predict([11])\n",
        "print(libra)"
      ],
      "execution_count": null,
      "outputs": [
        {
          "output_type": "stream",
          "name": "stdout",
          "text": [
            "[[24250.85]]\n"
          ]
        }
      ]
    },
    {
      "cell_type": "markdown",
      "metadata": {
        "id": "wilowsELkYvA"
      },
      "source": [
        "Conversor de masa (centigramo - miligramo)"
      ]
    },
    {
      "cell_type": "code",
      "metadata": {
        "id": "Zv-TBtnLkfHK"
      },
      "source": [
        "Masa2 = pd.read_csv(\"/content/centigramos-a-miligramos.csv\", sep=\";\")"
      ],
      "execution_count": 100,
      "outputs": []
    },
    {
      "cell_type": "code",
      "metadata": {
        "id": "zLmLnM4mkiIS"
      },
      "source": [
        "Centigramo = Masa2[\"Centigramo\"]\n",
        "Miligramo = Masa2[\"Miligramo\"]"
      ],
      "execution_count": 101,
      "outputs": []
    },
    {
      "cell_type": "code",
      "metadata": {
        "id": "G8YZms6Kkr_d"
      },
      "source": [
        "modelo = tf.keras.Sequential()\n",
        "modelo.add(tf.keras.layers.Dense(units=1, input_shape=[1]))"
      ],
      "execution_count": 102,
      "outputs": []
    },
    {
      "cell_type": "code",
      "metadata": {
        "id": "TDy4HkACktJF"
      },
      "source": [
        "modelo.compile(optimizer=tf.keras.optimizers.Adam(1),loss='mean_squared_error')"
      ],
      "execution_count": 103,
      "outputs": []
    },
    {
      "cell_type": "code",
      "metadata": {
        "id": "KfeNTY_AkxKj"
      },
      "source": [
        "epocas = modelo.fit(Centigramo, Miligramo, epochs=800, verbose=0)"
      ],
      "execution_count": 104,
      "outputs": []
    },
    {
      "cell_type": "code",
      "metadata": {
        "colab": {
          "base_uri": "https://localhost:8080/"
        },
        "id": "WeznIcoVkzP7",
        "outputId": "72c2c4f7-6597-4da4-da3f-045609ffb31f"
      },
      "source": [
        "i = modelo.predict([75])\n",
        "print(i)"
      ],
      "execution_count": 105,
      "outputs": [
        {
          "output_type": "stream",
          "name": "stdout",
          "text": [
            "[[750.]]\n"
          ]
        }
      ]
    },
    {
      "cell_type": "markdown",
      "metadata": {
        "id": "YiHIA2Ybk8jf"
      },
      "source": [
        "Conversor de masa (kilogramos - libras)"
      ]
    },
    {
      "cell_type": "code",
      "metadata": {
        "id": "L7-ZqEUZlDbe"
      },
      "source": [
        "Masa3 = pd.read_csv(\"/content/Kilogramo-a-libra.csv\", sep=\";\")"
      ],
      "execution_count": 106,
      "outputs": []
    },
    {
      "cell_type": "code",
      "metadata": {
        "id": "ukzVJZLslFiH"
      },
      "source": [
        "Kilogramos = Masa3[\"Kilogramos\"]\n",
        "Libras = Masa3[\"Libras\"]"
      ],
      "execution_count": 107,
      "outputs": []
    },
    {
      "cell_type": "code",
      "metadata": {
        "id": "mJAHdl1NlonL"
      },
      "source": [
        "modelo = tf.keras.Sequential()\n",
        "modelo.add(tf.keras.layers.Dense(units=1, input_shape=[1]))"
      ],
      "execution_count": 108,
      "outputs": []
    },
    {
      "cell_type": "code",
      "metadata": {
        "id": "xNCfohxilsag"
      },
      "source": [
        "modelo.compile(optimizer=tf.keras.optimizers.Adam(1),loss='mean_squared_error')"
      ],
      "execution_count": 109,
      "outputs": []
    },
    {
      "cell_type": "code",
      "metadata": {
        "id": "KTPRgpR2lrbs"
      },
      "source": [
        "epocas = modelo.fit(Kilogramos, Libras, epochs=2820, verbose=0)"
      ],
      "execution_count": 119,
      "outputs": []
    },
    {
      "cell_type": "code",
      "metadata": {
        "colab": {
          "base_uri": "https://localhost:8080/"
        },
        "id": "9_9k2QxHlvVB",
        "outputId": "8fcef5d2-0a3a-4851-e52a-47a3e76aa4c6"
      },
      "source": [
        "q = modelo.predict([75])\n",
        "print(q)"
      ],
      "execution_count": 120,
      "outputs": [
        {
          "output_type": "stream",
          "name": "stdout",
          "text": [
            "[[75000.]]\n"
          ]
        }
      ]
    },
    {
      "cell_type": "markdown",
      "metadata": {
        "id": "z9_swSJlmHRx"
      },
      "source": [
        "Conversor de masa (gramo - decigramo)"
      ]
    },
    {
      "cell_type": "code",
      "metadata": {
        "id": "WO_Mtx19mNfs"
      },
      "source": [
        "Masa4 = pd.read_csv(\"/content/gramo-a-decigramo.csv\", sep=\";\")"
      ],
      "execution_count": 121,
      "outputs": []
    },
    {
      "cell_type": "code",
      "metadata": {
        "id": "i47ESFbAmPe4"
      },
      "source": [
        "Gramo = Masa4[\"Gramo\"]\n",
        "Decigramo = Masa4[\"Decigramo\"]"
      ],
      "execution_count": 122,
      "outputs": []
    },
    {
      "cell_type": "code",
      "metadata": {
        "id": "zf1hnOgDmR74"
      },
      "source": [
        "modelo = tf.keras.Sequential()\n",
        "modelo.add(tf.keras.layers.Dense(units=1, input_shape=[1]))"
      ],
      "execution_count": 123,
      "outputs": []
    },
    {
      "cell_type": "code",
      "metadata": {
        "id": "950MA5UFmUvv"
      },
      "source": [
        "modelo.compile(optimizer=tf.keras.optimizers.Adam(1),loss='mean_squared_error')"
      ],
      "execution_count": 124,
      "outputs": []
    },
    {
      "cell_type": "code",
      "metadata": {
        "id": "UGTqGODXmW-o"
      },
      "source": [
        "epocas = modelo.fit(Gramo, Decigramo, epochs=401, verbose=0)"
      ],
      "execution_count": 127,
      "outputs": []
    },
    {
      "cell_type": "code",
      "metadata": {
        "colab": {
          "base_uri": "https://localhost:8080/"
        },
        "id": "5wpZmcMpmYON",
        "outputId": "eebad6bb-c67f-4324-a5df-797815da7c0a"
      },
      "source": [
        "b = modelo.predict([75])\n",
        "print(b)"
      ],
      "execution_count": 128,
      "outputs": [
        {
          "output_type": "stream",
          "name": "stdout",
          "text": [
            "[[750.]]\n"
          ]
        }
      ]
    },
    {
      "cell_type": "markdown",
      "metadata": {
        "id": "yrOf_zCKTGwZ"
      },
      "source": [
        "conversor de Longitud (Metro a centimetro)"
      ]
    },
    {
      "cell_type": "code",
      "metadata": {
        "id": "WWUkmy4pTQ1y"
      },
      "source": [
        "#leer los datos de entrenamiento\n",
        "longitud = pd.read_csv(\"/content/longitud.csv\", sep=\",\")"
      ],
      "execution_count": null,
      "outputs": []
    },
    {
      "cell_type": "code",
      "metadata": {
        "id": "A8XknaJLTg5b"
      },
      "source": [
        "M = longitud[\"metro\"]\n",
        "C = longitud[\"centimetro\"]"
      ],
      "execution_count": null,
      "outputs": []
    },
    {
      "cell_type": "code",
      "metadata": {
        "id": "LDC2smW1T1bC"
      },
      "source": [
        "modelo = tf.keras.Sequential()\n",
        "modelo.add(tf.keras.layers.Dense(units=1, input_shape=[1]))"
      ],
      "execution_count": null,
      "outputs": []
    },
    {
      "cell_type": "code",
      "metadata": {
        "id": "iMuXrZYDT410"
      },
      "source": [
        "modelo.compile(optimizer=tf.keras.optimizers.Adam(1),loss='mean_squared_error')"
      ],
      "execution_count": null,
      "outputs": []
    },
    {
      "cell_type": "code",
      "metadata": {
        "id": "NvcuUfxdT8VQ"
      },
      "source": [
        "historial = modelo.fit(M,C, epochs=5000, verbose=0)"
      ],
      "execution_count": null,
      "outputs": []
    },
    {
      "cell_type": "code",
      "metadata": {
        "colab": {
          "base_uri": "https://localhost:8080/"
        },
        "id": "dMZJHUZ6UMvb",
        "outputId": "d79ff8e8-6955-4675-cc10-a32e93340077"
      },
      "source": [
        "centimetro = modelo.predict([1000])\n",
        "print(centimetro)"
      ],
      "execution_count": null,
      "outputs": [
        {
          "output_type": "stream",
          "name": "stdout",
          "text": [
            "[[100000.]]\n"
          ]
        }
      ]
    },
    {
      "cell_type": "markdown",
      "metadata": {
        "id": "7RsAnuCZiVUq"
      },
      "source": [
        "Conversor de longitud( metro - milimetro)"
      ]
    },
    {
      "cell_type": "code",
      "metadata": {
        "id": "D86qGhSUibe_"
      },
      "source": [
        "Longitud2 = pd.read_csv(\"/content/Longitud2.csv\", sep=\";\")"
      ],
      "execution_count": 68,
      "outputs": []
    },
    {
      "cell_type": "code",
      "metadata": {
        "id": "HlpmZ87Cidu0"
      },
      "source": [
        "metro = Longitud2[\"metro\"]\n",
        "milimetro = Longitud2[\"milimetro\"]"
      ],
      "execution_count": 69,
      "outputs": []
    },
    {
      "cell_type": "code",
      "metadata": {
        "id": "ttmdX7m7ifvH"
      },
      "source": [
        "modelo = tf.keras.Sequential()\n",
        "modelo.add(tf.keras.layers.Dense(units=1, input_shape=[1]))"
      ],
      "execution_count": 70,
      "outputs": []
    },
    {
      "cell_type": "code",
      "metadata": {
        "id": "puHlC2BKii_H"
      },
      "source": [
        "modelo.compile(optimizer=tf.keras.optimizers.Adam(1),loss='mean_squared_error')"
      ],
      "execution_count": 71,
      "outputs": []
    },
    {
      "cell_type": "code",
      "metadata": {
        "id": "pzhoGTxYimTv"
      },
      "source": [
        "epocas = modelo.fit(metro, milimetro, epochs=2721, verbose=0)"
      ],
      "execution_count": 82,
      "outputs": []
    },
    {
      "cell_type": "code",
      "metadata": {
        "colab": {
          "base_uri": "https://localhost:8080/"
        },
        "id": "TCNmHfqMipAk",
        "outputId": "dce52038-5691-41e4-d08f-17c5d8514dfb"
      },
      "source": [
        "v = modelo.predict([75])\n",
        "print(v)"
      ],
      "execution_count": 83,
      "outputs": [
        {
          "output_type": "stream",
          "name": "stdout",
          "text": [
            "[[75000.]]\n"
          ]
        }
      ]
    },
    {
      "cell_type": "markdown",
      "metadata": {
        "id": "QoM20pGZjPKA"
      },
      "source": [
        "Conversor longitud (metro - yarda)"
      ]
    },
    {
      "cell_type": "code",
      "metadata": {
        "id": "Po5Yq2vGjVCd"
      },
      "source": [
        "Longitud3 = pd.read_csv(\"/content/Longitud3.csv\", sep=\";\")"
      ],
      "execution_count": 84,
      "outputs": []
    },
    {
      "cell_type": "code",
      "metadata": {
        "id": "pKS8iZfvjX4G"
      },
      "source": [
        "metro = Longitud3[\"metro\"]\n",
        "yarda = Longitud3[\"yarda\"]"
      ],
      "execution_count": 85,
      "outputs": []
    },
    {
      "cell_type": "code",
      "metadata": {
        "id": "SZU2OCesjbYB"
      },
      "source": [
        "modelo = tf.keras.Sequential()\n",
        "modelo.add(tf.keras.layers.Dense(units=1, input_shape=[1]))"
      ],
      "execution_count": 86,
      "outputs": []
    },
    {
      "cell_type": "code",
      "metadata": {
        "id": "GaEZWzk2jceJ"
      },
      "source": [
        "modelo.compile(optimizer=tf.keras.optimizers.Adam(1),loss='mean_squared_error')"
      ],
      "execution_count": 87,
      "outputs": []
    },
    {
      "cell_type": "code",
      "metadata": {
        "id": "W3IjctQejeYy"
      },
      "source": [
        "epocas = modelo.fit(metro, yarda, epochs=700, verbose=0)"
      ],
      "execution_count": 92,
      "outputs": []
    },
    {
      "cell_type": "code",
      "metadata": {
        "colab": {
          "base_uri": "https://localhost:8080/"
        },
        "id": "6R2JQxavjhWN",
        "outputId": "734ea3b4-8f1b-4c95-d2e5-8f18b492a555"
      },
      "source": [
        "u = modelo.predict([75])\n",
        "print(u)"
      ],
      "execution_count": 93,
      "outputs": [
        {
          "output_type": "stream",
          "name": "stdout",
          "text": [
            "[[82.02053]]\n"
          ]
        }
      ]
    },
    {
      "cell_type": "markdown",
      "metadata": {
        "id": "gegYx_57jt9a"
      },
      "source": [
        "Conversor longitud ( metro - pie)"
      ]
    },
    {
      "cell_type": "code",
      "metadata": {
        "id": "0AOfXNU4jy09"
      },
      "source": [
        "Longitud4 = pd.read_csv(\"/content/Longitud4.csv\", sep=\";\")"
      ],
      "execution_count": 94,
      "outputs": []
    },
    {
      "cell_type": "code",
      "metadata": {
        "id": "QYRMhOeqj0_g"
      },
      "source": [
        "metro = Longitud4[\"metro\"]\n",
        "pie = Longitud4[\"pie\"]"
      ],
      "execution_count": 95,
      "outputs": []
    },
    {
      "cell_type": "code",
      "metadata": {
        "id": "AshmRT52j5n1"
      },
      "source": [
        "modelo = tf.keras.Sequential()\n",
        "modelo.add(tf.keras.layers.Dense(units=1, input_shape=[1]))"
      ],
      "execution_count": 96,
      "outputs": []
    },
    {
      "cell_type": "code",
      "metadata": {
        "id": "7m4JyyVsj6tG"
      },
      "source": [
        "modelo.compile(optimizer=tf.keras.optimizers.Adam(1),loss='mean_squared_error')"
      ],
      "execution_count": 97,
      "outputs": []
    },
    {
      "cell_type": "code",
      "metadata": {
        "id": "rJmqBN5Uj9wk"
      },
      "source": [
        "epocas = modelo.fit(metro, pie, epochs=800, verbose=0)"
      ],
      "execution_count": 98,
      "outputs": []
    },
    {
      "cell_type": "code",
      "metadata": {
        "colab": {
          "base_uri": "https://localhost:8080/"
        },
        "id": "kMklPNJDj_Jz",
        "outputId": "01cc63f8-20ee-4b34-c894-5f4f05712e99"
      },
      "source": [
        "t = modelo.predict([75])\n",
        "print(t)"
      ],
      "execution_count": 99,
      "outputs": [
        {
          "output_type": "stream",
          "name": "stdout",
          "text": [
            "[[246.06311]]\n"
          ]
        }
      ]
    },
    {
      "cell_type": "markdown",
      "metadata": {
        "id": "LzxCYFqjU3Yp"
      },
      "source": [
        "Conversor de Almacenamiento ( bit a kilobits)"
      ]
    },
    {
      "cell_type": "code",
      "metadata": {
        "id": "A0OykCgze5Cl"
      },
      "source": [
        "Almacenamiento = pd.read_csv(\"/content/Almacenamiento.csv\", sep=\";\")"
      ],
      "execution_count": null,
      "outputs": []
    },
    {
      "cell_type": "code",
      "metadata": {
        "id": "mVHLGe4Ue_aW"
      },
      "source": [
        "bit = Almacenamiento[\"bit\"]\n",
        "kilobyte = Almacenamiento[\"kilobyte\"]"
      ],
      "execution_count": null,
      "outputs": []
    },
    {
      "cell_type": "code",
      "metadata": {
        "id": "3clcezppfJkE"
      },
      "source": [
        "modelo = tf.keras.Sequential()\n",
        "modelo.add(tf.keras.layers.Dense(units=1, input_shape=[1]))"
      ],
      "execution_count": null,
      "outputs": []
    },
    {
      "cell_type": "code",
      "metadata": {
        "id": "89siZ9jpfM8K"
      },
      "source": [
        "modelo.compile(optimizer=tf.keras.optimizers.Adam(1),loss='mean_squared_error')"
      ],
      "execution_count": null,
      "outputs": []
    },
    {
      "cell_type": "code",
      "metadata": {
        "id": "M6R2B3LefP2b"
      },
      "source": [
        "epocas = modelo.fit(bit, kilobyte, epochs=400, verbose=0)"
      ],
      "execution_count": null,
      "outputs": []
    },
    {
      "cell_type": "code",
      "metadata": {
        "colab": {
          "base_uri": "https://localhost:8080/"
        },
        "id": "pk8F3j95fbeE",
        "outputId": "2d5bdc7f-9923-49db-d284-21b0e161e83f"
      },
      "source": [
        "f = modelo.predict([68])\n",
        "print(f)"
      ],
      "execution_count": null,
      "outputs": [
        {
          "output_type": "stream",
          "name": "stdout",
          "text": [
            "[[0.0085]]\n"
          ]
        }
      ]
    },
    {
      "cell_type": "markdown",
      "metadata": {
        "id": "ss0hoa_mdwcO"
      },
      "source": [
        "Conversor de Almacenamiento(megabit-gigabi)"
      ]
    },
    {
      "cell_type": "code",
      "metadata": {
        "id": "vLfFyCtcd6qC"
      },
      "source": [
        "almacenamiento2 = pd.read_csv(\"/content/Almacenamiento2.csv\", sep=\";\")"
      ],
      "execution_count": 4,
      "outputs": []
    },
    {
      "cell_type": "code",
      "metadata": {
        "id": "jtrU4mPXef_T"
      },
      "source": [
        "megabit = almacenamiento2[\"megabit\"]\n",
        "gigabit= almacenamiento2[\"gigabit\"]"
      ],
      "execution_count": 6,
      "outputs": []
    },
    {
      "cell_type": "code",
      "metadata": {
        "id": "o5BudmmyepcR"
      },
      "source": [
        "modelo = tf.keras.Sequential()\n",
        "modelo.add(tf.keras.layers.Dense(units=1, input_shape=[1]))"
      ],
      "execution_count": 7,
      "outputs": []
    },
    {
      "cell_type": "code",
      "metadata": {
        "id": "SVvu0TQserLp"
      },
      "source": [
        "modelo.compile(optimizer=tf.keras.optimizers.Adam(1),loss='mean_squared_error')"
      ],
      "execution_count": 8,
      "outputs": []
    },
    {
      "cell_type": "code",
      "metadata": {
        "id": "EIe7qhmTetFn"
      },
      "source": [
        "epocas = modelo.fit(megabit, gigabit, epochs=600, verbose=0)"
      ],
      "execution_count": 9,
      "outputs": []
    },
    {
      "cell_type": "code",
      "metadata": {
        "colab": {
          "base_uri": "https://localhost:8080/"
        },
        "id": "6pvgQJm6evoc",
        "outputId": "6ba1e32e-cedd-4bb9-974c-0d26067a8128"
      },
      "source": [
        "f = modelo.predict([70])\n",
        "print(f)"
      ],
      "execution_count": 10,
      "outputs": [
        {
          "output_type": "stream",
          "name": "stdout",
          "text": [
            "[[0.07]]\n"
          ]
        }
      ]
    },
    {
      "cell_type": "markdown",
      "metadata": {
        "id": "dM1_Ww-Rex6B"
      },
      "source": [
        "Conversor almacenamiento (terabit-gigabit)"
      ]
    },
    {
      "cell_type": "code",
      "metadata": {
        "id": "ikHmGV6ze3Bf"
      },
      "source": [
        "Almacenamiento3 = pd.read_csv(\"/content/Almacenamiento3.csv\", sep=\";\")"
      ],
      "execution_count": 11,
      "outputs": []
    },
    {
      "cell_type": "code",
      "metadata": {
        "id": "Q0FIP8a0e9uC"
      },
      "source": [
        "terabit = Almacenamiento3[\"terabit\"]\n",
        "terabyte = Almacenamiento3[\"terabyte\"]"
      ],
      "execution_count": 12,
      "outputs": []
    },
    {
      "cell_type": "code",
      "metadata": {
        "id": "vrAx0K-_fCHS"
      },
      "source": [
        "modelo = tf.keras.Sequential()\n",
        "modelo.add(tf.keras.layers.Dense(units=1, input_shape=[1]))"
      ],
      "execution_count": 13,
      "outputs": []
    },
    {
      "cell_type": "code",
      "metadata": {
        "id": "S3DAbnFxfFA1"
      },
      "source": [
        "modelo.compile(optimizer=tf.keras.optimizers.Adam(1),loss='mean_squared_error')"
      ],
      "execution_count": 14,
      "outputs": []
    },
    {
      "cell_type": "code",
      "metadata": {
        "id": "VZ0_JXU7fGom"
      },
      "source": [
        "epocas = modelo.fit(terabit, terabyte, epochs=300, verbose=0)"
      ],
      "execution_count": 15,
      "outputs": []
    },
    {
      "cell_type": "code",
      "metadata": {
        "colab": {
          "base_uri": "https://localhost:8080/"
        },
        "id": "n6K3JcILfJKs",
        "outputId": "67634b32-1b71-4bff-d160-f0d13911e88c"
      },
      "source": [
        "f = modelo.predict([75])\n",
        "print(f)"
      ],
      "execution_count": 16,
      "outputs": [
        {
          "output_type": "stream",
          "name": "stdout",
          "text": [
            "[[9.374991]]\n"
          ]
        }
      ]
    },
    {
      "cell_type": "markdown",
      "metadata": {
        "id": "S-IsfI0kfOSS"
      },
      "source": [
        "Conversor de almacenamiento(petabit-terabit)"
      ]
    },
    {
      "cell_type": "code",
      "metadata": {
        "id": "SKzfxnlPfSmH"
      },
      "source": [
        "Almacenamiento4 = pd.read_csv(\"/content/Almacenamiento4.csv\", sep=\";\")"
      ],
      "execution_count": 17,
      "outputs": []
    },
    {
      "cell_type": "code",
      "metadata": {
        "id": "Aiosp4vVfZWK"
      },
      "source": [
        "petabit = Almacenamiento4[\"petabit\"]\n",
        "tebibyte = Almacenamiento4[\"tebibyte\"]"
      ],
      "execution_count": 18,
      "outputs": []
    },
    {
      "cell_type": "code",
      "metadata": {
        "id": "YSvgrA3KfbgV"
      },
      "source": [
        "modelo = tf.keras.Sequential()\n",
        "modelo.add(tf.keras.layers.Dense(units=1, input_shape=[1]))"
      ],
      "execution_count": 19,
      "outputs": []
    },
    {
      "cell_type": "code",
      "metadata": {
        "id": "BzV2fdpkfdlQ"
      },
      "source": [
        "modelo.compile(optimizer=tf.keras.optimizers.Adam(1),loss='mean_squared_error')"
      ],
      "execution_count": 20,
      "outputs": []
    },
    {
      "cell_type": "code",
      "metadata": {
        "id": "m965Ze_hfhPC"
      },
      "source": [
        "epocas = modelo.fit(petabit, tebibyte, epochs=2200, verbose=0)"
      ],
      "execution_count": 27,
      "outputs": []
    },
    {
      "cell_type": "code",
      "metadata": {
        "colab": {
          "base_uri": "https://localhost:8080/"
        },
        "id": "3dBg_rBIfkRG",
        "outputId": "01f775b9-f98b-4f0b-8fea-405e647cb296"
      },
      "source": [
        "f = modelo.predict([10])\n",
        "print(f)"
      ],
      "execution_count": 28,
      "outputs": [
        {
          "output_type": "stream",
          "name": "stdout",
          "text": [
            "[[1136.8688]]\n"
          ]
        }
      ]
    },
    {
      "cell_type": "markdown",
      "metadata": {
        "id": "NniqJHLLgKUO"
      },
      "source": [
        "conversor de tiempo(siglo-mes)\n"
      ]
    },
    {
      "cell_type": "code",
      "metadata": {
        "id": "4IV1HBTEgOig"
      },
      "source": [
        "time = pd.read_csv(\"/content/time.csv\", sep=\",\")"
      ],
      "execution_count": null,
      "outputs": []
    },
    {
      "cell_type": "code",
      "metadata": {
        "id": "o4tI7biDiaiM"
      },
      "source": [
        "siglo = time[\"siglo\"]\n",
        "mes = time[\"mes\"]"
      ],
      "execution_count": null,
      "outputs": []
    },
    {
      "cell_type": "code",
      "metadata": {
        "id": "ZQTBElUiioal"
      },
      "source": [
        "modelo = tf.keras.Sequential()\n",
        "modelo.add(tf.keras.layers.Dense(units=1, input_shape=[1]))"
      ],
      "execution_count": null,
      "outputs": []
    },
    {
      "cell_type": "code",
      "metadata": {
        "id": "8hhjDfaUisx8"
      },
      "source": [
        "modelo.compile(optimizer=tf.keras.optimizers.Adam(1),loss='mean_squared_error')"
      ],
      "execution_count": null,
      "outputs": []
    },
    {
      "cell_type": "code",
      "metadata": {
        "id": "cqX9Gm_JixJY"
      },
      "source": [
        "epocas = modelo.fit(siglo, mes, epochs=6000, verbose=0)"
      ],
      "execution_count": null,
      "outputs": []
    },
    {
      "cell_type": "code",
      "metadata": {
        "colab": {
          "base_uri": "https://localhost:8080/"
        },
        "id": "79OHJlZzi8CO",
        "outputId": "527fcfa1-b3e9-45ba-9145-7b699d4f33a9"
      },
      "source": [
        "j = modelo.predict([100])\n",
        "print(j)"
      ],
      "execution_count": null,
      "outputs": [
        {
          "output_type": "stream",
          "name": "stdout",
          "text": [
            "[[120000.]]\n"
          ]
        }
      ]
    },
    {
      "cell_type": "markdown",
      "metadata": {
        "id": "ZU1cNbGmF2US"
      },
      "source": [
        "conversor de tiempo(dias-horas)"
      ]
    },
    {
      "cell_type": "code",
      "metadata": {
        "id": "Lqklftq6F6uM"
      },
      "source": [
        "Tiempo2 = pd.read_csv(\"/content/Tiempo2.csv\", sep=\";\")"
      ],
      "execution_count": null,
      "outputs": []
    },
    {
      "cell_type": "code",
      "metadata": {
        "id": "bpMz34fYGD0D"
      },
      "source": [
        "Dia = Tiempo2[\"Dias\"]\n",
        "Hora = Tiempo2[\"Horas\"]"
      ],
      "execution_count": null,
      "outputs": []
    },
    {
      "cell_type": "code",
      "metadata": {
        "id": "hPFuoDfIGHv4"
      },
      "source": [
        "modelo = tf.keras.Sequential()\n",
        "modelo.add(tf.keras.layers.Dense(units=1, input_shape=[1]))"
      ],
      "execution_count": null,
      "outputs": []
    },
    {
      "cell_type": "code",
      "metadata": {
        "id": "RX0BKGETGItw"
      },
      "source": [
        "modelo.compile(optimizer=tf.keras.optimizers.Adam(1),loss='mean_squared_error')"
      ],
      "execution_count": null,
      "outputs": []
    },
    {
      "cell_type": "code",
      "metadata": {
        "id": "MzCcKor9GLLK"
      },
      "source": [
        "historial = modelo.fit(Dia,Hora, epochs=1500, verbose=0)"
      ],
      "execution_count": null,
      "outputs": []
    },
    {
      "cell_type": "code",
      "metadata": {
        "colab": {
          "base_uri": "https://localhost:8080/"
        },
        "id": "w11zKv1gGPkW",
        "outputId": "e45fe9a2-4175-42fa-98af-e42553fda68b"
      },
      "source": [
        "Hora = modelo.predict([11])\n",
        "print(Hora)"
      ],
      "execution_count": null,
      "outputs": [
        {
          "output_type": "stream",
          "name": "stdout",
          "text": [
            "[[264.]]\n"
          ]
        }
      ]
    },
    {
      "cell_type": "markdown",
      "metadata": {
        "id": "glOmbmpWHG7o"
      },
      "source": [
        "converor de tiempo(hora-minutos)"
      ]
    },
    {
      "cell_type": "code",
      "metadata": {
        "id": "F9S0sUrMHOfI"
      },
      "source": [
        "Tiempo3 = pd.read_csv(\"/content/Tiempo3.csv\", sep=\";\")"
      ],
      "execution_count": null,
      "outputs": []
    },
    {
      "cell_type": "code",
      "metadata": {
        "id": "4sX7Tq-wHTtJ"
      },
      "source": [
        "Hora = Tiempo3[\"Horas\"]\n",
        "Minuto = Tiempo3[\"Minutos\"]"
      ],
      "execution_count": null,
      "outputs": []
    },
    {
      "cell_type": "code",
      "metadata": {
        "id": "bEE9mu_pHWnI"
      },
      "source": [
        "modelo = tf.keras.Sequential()\n",
        "modelo.add(tf.keras.layers.Dense(units=1, input_shape=[1]))"
      ],
      "execution_count": null,
      "outputs": []
    },
    {
      "cell_type": "code",
      "metadata": {
        "id": "VUAYGKH7HcWy"
      },
      "source": [
        "modelo.compile(optimizer=tf.keras.optimizers.Adam(1),loss='mean_squared_error')"
      ],
      "execution_count": null,
      "outputs": []
    },
    {
      "cell_type": "code",
      "metadata": {
        "id": "Udp7kQpVHfC_"
      },
      "source": [
        "historial = modelo.fit(Hora,Minuto, epochs=3000, verbose=0)"
      ],
      "execution_count": null,
      "outputs": []
    },
    {
      "cell_type": "code",
      "metadata": {
        "colab": {
          "base_uri": "https://localhost:8080/"
        },
        "id": "B8qZ96-qHgqF",
        "outputId": "fee85fea-39e6-4d72-fa47-5f60b9d790f1"
      },
      "source": [
        "Minuto = modelo.predict([11])\n",
        "print(Minuto)"
      ],
      "execution_count": null,
      "outputs": [
        {
          "output_type": "stream",
          "name": "stdout",
          "text": [
            "[[660.0001]]\n"
          ]
        }
      ]
    },
    {
      "cell_type": "markdown",
      "metadata": {
        "id": "1dl80lj9HlhN"
      },
      "source": [
        "conversor de minuto- segundo"
      ]
    },
    {
      "cell_type": "code",
      "metadata": {
        "id": "XPDvdu7fHxmE"
      },
      "source": [
        "Tiempo4 = pd.read_csv(\"/content/Tiempo4.csv\", sep=\";\")"
      ],
      "execution_count": null,
      "outputs": []
    },
    {
      "cell_type": "code",
      "metadata": {
        "id": "98QG_SyDH3ud"
      },
      "source": [
        "Minuto = Tiempo4[\"Minutos\"]\n",
        "Segundo = Tiempo4[\"Segundos\"]"
      ],
      "execution_count": null,
      "outputs": []
    },
    {
      "cell_type": "code",
      "metadata": {
        "id": "2kPlpkAjH7AP"
      },
      "source": [
        "modelo = tf.keras.Sequential()\n",
        "modelo.add(tf.keras.layers.Dense(units=1, input_shape=[1]))"
      ],
      "execution_count": null,
      "outputs": []
    },
    {
      "cell_type": "code",
      "metadata": {
        "id": "6HlSAXCtIAIe"
      },
      "source": [
        "modelo.compile(optimizer=tf.keras.optimizers.Adam(1),loss='mean_squared_error')"
      ],
      "execution_count": null,
      "outputs": []
    },
    {
      "cell_type": "code",
      "metadata": {
        "id": "8H-Idh25IDkj"
      },
      "source": [
        "historial = modelo.fit(Minuto,Segundo, epochs=3900, verbose=0)"
      ],
      "execution_count": null,
      "outputs": []
    },
    {
      "cell_type": "code",
      "metadata": {
        "colab": {
          "base_uri": "https://localhost:8080/"
        },
        "id": "wpxKPbPLIHwE",
        "outputId": "aaff6f89-db2b-483a-d26e-73db05d08eeb"
      },
      "source": [
        "Segundo = modelo.predict([11])\n",
        "print(Segundo)"
      ],
      "execution_count": null,
      "outputs": [
        {
          "output_type": "stream",
          "name": "stdout",
          "text": [
            "[[660.00006]]\n"
          ]
        }
      ]
    },
    {
      "cell_type": "markdown",
      "metadata": {
        "id": "hMONcq0xkF-p"
      },
      "source": [
        "conversor area( kilometro cuadrado a hectarea)"
      ]
    },
    {
      "cell_type": "code",
      "metadata": {
        "id": "6HESvl7BkMN_"
      },
      "source": [
        "Area = pd.read_csv(\"/content/Area.csv\", sep=\";\")"
      ],
      "execution_count": null,
      "outputs": []
    },
    {
      "cell_type": "code",
      "metadata": {
        "id": "CJlOptMGkagt"
      },
      "source": [
        "kilometrocuadrado = Area[\"kilometro cuadrado\"]\n",
        "hectarea = Area[\"hectarea\"]"
      ],
      "execution_count": null,
      "outputs": []
    },
    {
      "cell_type": "code",
      "metadata": {
        "id": "APLGkyO6kd3Z"
      },
      "source": [
        "modelo = tf.keras.Sequential()\n",
        "modelo.add(tf.keras.layers.Dense(units=1, input_shape=[1]))"
      ],
      "execution_count": null,
      "outputs": []
    },
    {
      "cell_type": "code",
      "metadata": {
        "id": "XE11YoxdkfCF"
      },
      "source": [
        "modelo.compile(optimizer=tf.keras.optimizers.Adam(1),loss='mean_squared_error')"
      ],
      "execution_count": null,
      "outputs": []
    },
    {
      "cell_type": "code",
      "metadata": {
        "id": "UwCyVZewkh5u"
      },
      "source": [
        "epocas = modelo.fit(kilometrocuadrado, hectarea, epochs=1190, verbose=0)"
      ],
      "execution_count": null,
      "outputs": []
    },
    {
      "cell_type": "code",
      "metadata": {
        "colab": {
          "base_uri": "https://localhost:8080/"
        },
        "id": "Snd7ImwBkxEc",
        "outputId": "8a93ff25-bcb5-4995-e08d-095fb98cc952"
      },
      "source": [
        "f = modelo.predict([78])\n",
        "print(f)"
      ],
      "execution_count": null,
      "outputs": [
        {
          "output_type": "stream",
          "name": "stdout",
          "text": [
            "[[7800.]]\n"
          ]
        }
      ]
    },
    {
      "cell_type": "markdown",
      "metadata": {
        "id": "TgasAmikf4Dz"
      },
      "source": [
        "COnversor de area(Km cuadrado - milla cuadrada)"
      ]
    },
    {
      "cell_type": "code",
      "metadata": {
        "id": "ROwgub9zgIv5"
      },
      "source": [
        "Area2 = pd.read_csv(\"/content/Area2.csv\", sep=\";\")"
      ],
      "execution_count": 29,
      "outputs": []
    },
    {
      "cell_type": "code",
      "metadata": {
        "id": "whzGaxnAgZBx"
      },
      "source": [
        "kilometrocuadrado = Area2[\"kilometro cuadrado\"]\n",
        "millacuadrada = Area2[\"milla cuadrada\"]"
      ],
      "execution_count": 30,
      "outputs": []
    },
    {
      "cell_type": "code",
      "metadata": {
        "id": "llj4GXxRgcZx"
      },
      "source": [
        "modelo = tf.keras.Sequential()\n",
        "modelo.add(tf.keras.layers.Dense(units=1, input_shape=[1]))"
      ],
      "execution_count": 31,
      "outputs": []
    },
    {
      "cell_type": "code",
      "metadata": {
        "id": "TNRgx3w4geMi"
      },
      "source": [
        "modelo.compile(optimizer=tf.keras.optimizers.Adam(1),loss='mean_squared_error')"
      ],
      "execution_count": 32,
      "outputs": []
    },
    {
      "cell_type": "code",
      "metadata": {
        "id": "ONwKgc95ghUt"
      },
      "source": [
        "epocas = modelo.fit(kilometrocuadrado, millacuadrada, epochs=500, verbose=0)"
      ],
      "execution_count": 33,
      "outputs": []
    },
    {
      "cell_type": "code",
      "metadata": {
        "colab": {
          "base_uri": "https://localhost:8080/"
        },
        "id": "f9zK7TEfginE",
        "outputId": "097f14a2-afb3-4345-c64d-8ae21bc98e56"
      },
      "source": [
        "f = modelo.predict([75])\n",
        "print(f)"
      ],
      "execution_count": 34,
      "outputs": [
        {
          "output_type": "stream",
          "name": "stdout",
          "text": [
            "[[28.957672]]\n"
          ]
        }
      ]
    },
    {
      "cell_type": "markdown",
      "metadata": {
        "id": "A8CfLoBXgl0N"
      },
      "source": [
        "Conversor de area(milla cuadrada - hectarea)"
      ]
    },
    {
      "cell_type": "code",
      "metadata": {
        "id": "VsqGysdRgrWE"
      },
      "source": [
        "Area3 = pd.read_csv(\"/content/Area3.csv\", sep=\";\")"
      ],
      "execution_count": 35,
      "outputs": []
    },
    {
      "cell_type": "code",
      "metadata": {
        "id": "F4rZyrrkgthi"
      },
      "source": [
        "millacuadrada = Area3[\"milla cuadrada\"]\n",
        "hectarea = Area3[\"hectarea\"]"
      ],
      "execution_count": 36,
      "outputs": []
    },
    {
      "cell_type": "code",
      "metadata": {
        "id": "-vKx-xd1gwUz"
      },
      "source": [
        "modelo = tf.keras.Sequential()\n",
        "modelo.add(tf.keras.layers.Dense(units=1, input_shape=[1]))"
      ],
      "execution_count": 37,
      "outputs": []
    },
    {
      "cell_type": "code",
      "metadata": {
        "id": "VGA6lkLzgxtl"
      },
      "source": [
        "modelo.compile(optimizer=tf.keras.optimizers.Adam(1),loss='mean_squared_error')"
      ],
      "execution_count": 38,
      "outputs": []
    },
    {
      "cell_type": "code",
      "metadata": {
        "id": "8F1yDMKMg0eW"
      },
      "source": [
        "epocas = modelo.fit(millacuadrada, hectarea, epochs=2600, verbose=0)"
      ],
      "execution_count": 52,
      "outputs": []
    },
    {
      "cell_type": "code",
      "metadata": {
        "colab": {
          "base_uri": "https://localhost:8080/"
        },
        "id": "wuAxEZg0g3IQ",
        "outputId": "ac53042e-7119-49fe-9eff-89f823ae1029"
      },
      "source": [
        "k = modelo.predict([80])\n",
        "print(k)"
      ],
      "execution_count": 53,
      "outputs": [
        {
          "output_type": "stream",
          "name": "stdout",
          "text": [
            "[[20719.875]]\n"
          ]
        }
      ]
    },
    {
      "cell_type": "markdown",
      "metadata": {
        "id": "9QLelhQ1hXcJ"
      },
      "source": [
        "conversor de area (kilometro cuadrado - acre)"
      ]
    },
    {
      "cell_type": "code",
      "metadata": {
        "id": "poueWSMHheBH"
      },
      "source": [
        "Area4 = pd.read_csv(\"/content/Area4.csv\", sep=\";\")"
      ],
      "execution_count": 54,
      "outputs": []
    },
    {
      "cell_type": "code",
      "metadata": {
        "id": "FMbHH4N0hha5"
      },
      "source": [
        "kilometrocuadrado = Area4[\"kilometro cuadrado\"]\n",
        "acre = Area4[\"acre\"]"
      ],
      "execution_count": 55,
      "outputs": []
    },
    {
      "cell_type": "code",
      "metadata": {
        "id": "UxTKvufzhjNE"
      },
      "source": [
        "modelo = tf.keras.Sequential()\n",
        "modelo.add(tf.keras.layers.Dense(units=1, input_shape=[1]))"
      ],
      "execution_count": 56,
      "outputs": []
    },
    {
      "cell_type": "code",
      "metadata": {
        "id": "2GMvqEn0hlO3"
      },
      "source": [
        "modelo.compile(optimizer=tf.keras.optimizers.Adam(1),loss='mean_squared_error')"
      ],
      "execution_count": 57,
      "outputs": []
    },
    {
      "cell_type": "code",
      "metadata": {
        "id": "v8M4vUEIhmxR"
      },
      "source": [
        "epocas = modelo.fit(kilometrocuadrado, acre, epochs=1725, verbose=0)"
      ],
      "execution_count": 66,
      "outputs": []
    },
    {
      "cell_type": "code",
      "metadata": {
        "colab": {
          "base_uri": "https://localhost:8080/"
        },
        "id": "KtPzRkv8hqiE",
        "outputId": "dc1a3eb5-e9ea-4ca1-a3b4-3b202f0b0919"
      },
      "source": [
        "l = modelo.predict([75])\n",
        "print(l)"
      ],
      "execution_count": 67,
      "outputs": [
        {
          "output_type": "stream",
          "name": "stdout",
          "text": [
            "[[18532.9]]\n"
          ]
        }
      ]
    },
    {
      "cell_type": "markdown",
      "metadata": {
        "id": "RBOcyCCRwi4I"
      },
      "source": [
        "Desarrolle la tabla de nmeses acumulados"
      ]
    },
    {
      "cell_type": "code",
      "metadata": {
        "id": "7RyVTW5uJpH-"
      },
      "source": [
        "nmeses = pd.read_csv(\"/content/nmeses.csv\", sep=\",\")"
      ],
      "execution_count": null,
      "outputs": []
    },
    {
      "cell_type": "code",
      "metadata": {
        "id": "Uzpyn6hgKCUh"
      },
      "source": [
        "mes = nmeses[\"mes\"]\n",
        "acumulacion = nmeses[\"acumulacion\"]"
      ],
      "execution_count": null,
      "outputs": []
    },
    {
      "cell_type": "code",
      "metadata": {
        "id": "42xv_nj1KRtI"
      },
      "source": [
        "modelo = tf.keras.Sequential()\n",
        "modelo.add(tf.keras.layers.Dense(units=1, input_shape=[1]))"
      ],
      "execution_count": null,
      "outputs": []
    },
    {
      "cell_type": "code",
      "metadata": {
        "id": "kBHruQDJKUZx"
      },
      "source": [
        "modelo.compile(optimizer=tf.keras.optimizers.Adam(1),loss='mean_squared_error')"
      ],
      "execution_count": null,
      "outputs": []
    },
    {
      "cell_type": "code",
      "metadata": {
        "id": "CdzMajpGKXL1"
      },
      "source": [
        "epocas = modelo.fit(mes, acumulacion, epochs=200, verbose=0)"
      ],
      "execution_count": null,
      "outputs": []
    },
    {
      "cell_type": "code",
      "metadata": {
        "colab": {
          "base_uri": "https://localhost:8080/"
        },
        "id": "ulfuk7ydLRE8",
        "outputId": "d3cbddd2-0ed0-4305-87e2-dfbae239e971"
      },
      "source": [
        "acumulacion = modelo.predict([1])\n",
        "print(acumulacion)"
      ],
      "execution_count": null,
      "outputs": [
        {
          "output_type": "stream",
          "name": "stdout",
          "text": [
            "[[1.2155952]]\n"
          ]
        }
      ]
    }
  ]
}