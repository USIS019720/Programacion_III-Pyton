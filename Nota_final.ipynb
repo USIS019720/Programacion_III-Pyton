{
  "nbformat": 4,
  "nbformat_minor": 0,
  "metadata": {
    "colab": {
      "name": "Nota_final",
      "provenance": [],
      "authorship_tag": "ABX9TyN3ZD1ERAT/w0Ra2v0yAzyF",
      "include_colab_link": true
    },
    "kernelspec": {
      "name": "python3",
      "display_name": "Python 3"
    },
    "language_info": {
      "name": "python"
    }
  },
  "cells": [
    {
      "cell_type": "markdown",
      "metadata": {
        "id": "view-in-github",
        "colab_type": "text"
      },
      "source": [
        "<a href=\"https://colab.research.google.com/github/USIS019720/Programacion_III-Pyton/blob/Nota_Final_Ciclo/Nota_final.ipynb\" target=\"_parent\"><img src=\"https://colab.research.google.com/assets/colab-badge.svg\" alt=\"Open In Colab\"/></a>"
      ]
    },
    {
      "cell_type": "code",
      "metadata": {
        "colab": {
          "base_uri": "https://localhost:8080/"
        },
        "id": "31oRbHyovuSi",
        "outputId": "466e04db-1c62-43d5-88ad-347ce3a509ff"
      },
      "source": [
        "print(\"Computo 1:\")\n",
        "n1c1 = float(input(\"Ingrese la nota del laboratorio 1: \"))\n",
        "n2c1 = float(input(\"Ingrese la nota del laboratorio 2: \"))\n",
        "pc1 = float(input(\"Ingrese la nota del parcial: \"))\n",
        "\n",
        "resultadoc1 = n1c1*0.30 + n2c1*0.30 + pc1*0.40\n",
        "print(\"Su nota es de: \", resultadoc1)\n",
        "\n",
        "print(\"\")\n",
        "\n",
        "print(\"Computo 2\")\n",
        "n1c2 = float(input(\"Ingrese la nota del laboratorio 1: \"))\n",
        "n2c2 = float(input(\"Ingrese la nota del laboratorio 2: \"))\n",
        "pc2 = float(input(\"Ingrese la nota del parcial: \"))\n",
        "\n",
        "resultadoc2 = n1c2*0.30 + n2c2*0.30 + pc2*0.40\n",
        "print(\"Su nota es de: \", resultadoc2)\n",
        "\n",
        "print(\"\")\n",
        "\n",
        "print(\"Computo 3\")\n",
        "n1c3 = float(input(\"Ingrese la nota del laboratorio 1: \"))\n",
        "n2c3 = float(input(\"Ingrese la nota del laboratorio 2: \"))\n",
        "pc3 = float(input(\"Ingrese la nota del parcial: \"))\n",
        "\n",
        "resultadoc3 = n1c3*0.30 + n2c3*0.30 + pc3*0.40\n",
        "print(\"Su nota es de: \", resultadoc3)\n",
        "\n",
        "print(\"\")\n",
        "\n",
        "print(\"Nota Final\")\n",
        "ciclo =(resultadoc1 + resultadoc2 + resultadoc3)/ 3\n",
        "print(ciclo)"
      ],
      "execution_count": 9,
      "outputs": [
        {
          "output_type": "stream",
          "text": [
            "Computo 1:\n",
            "Ingrese la nota del laboratorio 1: 9\n",
            "Ingrese la nota del laboratorio 2: 4\n",
            "Ingrese la nota del parcial: 8\n",
            "Su nota es de:  7.1\n",
            "\n",
            "Computo 2\n",
            "Ingrese la nota del laboratorio 1: 9\n",
            "Ingrese la nota del laboratorio 2: 5\n",
            "Ingrese la nota del parcial: 10\n",
            "Su nota es de:  8.2\n",
            "\n",
            "Computo 3\n",
            "Ingrese la nota del laboratorio 1: 9\n",
            "Ingrese la nota del laboratorio 2: 8\n",
            "Ingrese la nota del parcial: 10\n",
            "Su nota es de:  9.1\n",
            "\n",
            "Nota Final\n",
            "8.133333333333333\n"
          ],
          "name": "stdout"
        }
      ]
    }
  ]
}