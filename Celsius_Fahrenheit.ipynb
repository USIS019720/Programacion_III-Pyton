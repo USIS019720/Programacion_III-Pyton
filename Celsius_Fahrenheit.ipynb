{
  "nbformat": 4,
  "nbformat_minor": 0,
  "metadata": {
    "colab": {
      "name": "Celsius_Fahrenheit",
      "provenance": [],
      "authorship_tag": "ABX9TyMcoaVU/zmT27LPNuPIduBI",
      "include_colab_link": true
    },
    "kernelspec": {
      "name": "python3",
      "display_name": "Python 3"
    },
    "language_info": {
      "name": "python"
    }
  },
  "cells": [
    {
      "cell_type": "markdown",
      "metadata": {
        "id": "view-in-github",
        "colab_type": "text"
      },
      "source": [
        "<a href=\"https://colab.research.google.com/github/USIS019720/Programacion_III-Pyton/blob/Celsius_Fahrenheit/Celsius_Fahrenheit.ipynb\" target=\"_parent\"><img src=\"https://colab.research.google.com/assets/colab-badge.svg\" alt=\"Open In Colab\"/></a>"
      ]
    },
    {
      "cell_type": "code",
      "metadata": {
        "colab": {
          "base_uri": "https://localhost:8080/"
        },
        "id": "PonKAv7J-aXx",
        "outputId": "29750b24-13fa-48d1-da3a-85e3624855d3"
      },
      "source": [
        "celsius = int(input(\"Ingrese la temperatura en grados celsius: \"))\n",
        "fahrenheit = 9.0/5.0 * celsius +32\n",
        "print(\"{} grados Celsius son {} grados Fahrenheit\".format(fahrenheit,celsius))"
      ],
      "execution_count": 2,
      "outputs": [
        {
          "output_type": "stream",
          "text": [
            "Ingrese la temperatura en grados celsius: 1\n",
            "33.8 grados Celsius son 1 grados Fahrenheit\n"
          ],
          "name": "stdout"
        }
      ]
    }
  ]
}